{
 "cells": [
  {
   "cell_type": "markdown",
   "id": "1367fbce",
   "metadata": {},
   "source": [
    "# Load libraries"
   ]
  },
  {
   "cell_type": "code",
   "execution_count": null,
   "id": "c0867f55",
   "metadata": {},
   "outputs": [],
   "source": [
    "import numpy as np\n",
    "import ase\n",
    "from ase.visualize import view\n",
    "from ase.lattice.hexagonal import HexagonalClosedPacked\n",
    "from ase.io import write"
   ]
  },
  {
   "cell_type": "markdown",
   "id": "aed81e46",
   "metadata": {},
   "source": [
    "# Make new cells with ASE"
   ]
  },
  {
   "cell_type": "markdown",
   "id": "01e20e4d",
   "metadata": {},
   "source": [
    "### Define lattice parameter range and c/a ratio"
   ]
  },
  {
   "cell_type": "code",
   "execution_count": null,
   "id": "29813b24",
   "metadata": {},
   "outputs": [],
   "source": [
    "c_a = 1.587\n",
    "latPar = np.arange(2.85, 3.15, 0.1).round(2).tolist()"
   ]
  },
  {
   "cell_type": "markdown",
   "id": "a191afae",
   "metadata": {},
   "source": [
    "### Define save path"
   ]
  },
  {
   "cell_type": "code",
   "execution_count": null,
   "id": "5f0f2f42",
   "metadata": {},
   "outputs": [],
   "source": [
    "folder = './'"
   ]
  },
  {
   "cell_type": "markdown",
   "id": "7ff6e33e",
   "metadata": {},
   "source": [
    "### Loop through lattice parameter range and generate simulation cells"
   ]
  },
  {
   "cell_type": "code",
   "execution_count": null,
   "id": "8cc5629c",
   "metadata": {},
   "outputs": [],
   "source": [
    "# Define cell dimension in Angstrom [x,y,z], where z is the beam direction. All cells will be scaled according to input.\n",
    "cell_dim = [40,40,80]\n",
    "\n",
    "for a0 in latPar:\n",
    "\n",
    "    # 10-10 orientation\n",
    "    atoms_10m10 = HexagonalClosedPacked(directions=[[0,0,0,1],[1,-2,1,0],[1,0,-1,0]], \\\n",
    "                        size=(1,1,1), symbol='Ti', pbc=(1,1,1), latticeconstant={'a':a0, 'c':a0*c_a})\n",
    "    ## Determine simulation cell scaling and scale cell\n",
    "    a = atoms_10m10.get_cell()[0][0]\n",
    "    b = atoms_10m10.get_cell()[1][1]\n",
    "    c = atoms_10m10.get_cell()[2][2]\n",
    "    size_new = (int(np.round(cell_dim[0]/a)), int(np.round(cell_dim[1]/b)), int(np.round(cell_dim[2]/c)))  \n",
    "    atoms_10m10 = HexagonalClosedPacked(directions=[[0,0,0,1],[1,-2,1,0],[1,0,-1,0]], \\\n",
    "                        size=size_new, symbol='Ti', pbc=(1,1,1), latticeconstant={'a':a0, 'c':a0*c_a})\n",
    "    ## Write to file\n",
    "    filename = 'HCP_Ti_10m10_LatPar_' + str(a0) + 'A' + '.vasp'\n",
    "    write(folder + filename, atoms_10m10, format=\"vasp\")\n",
    "    \n",
    "    # 2-1-10 orientation\n",
    "    atoms_2m1m10 = HexagonalClosedPacked(directions=[[0,1,-1,0],[0,0,0,1],[2,-1,-1,0]], \\\n",
    "                        size=(1,1,1), symbol='Ti', pbc=(1,1,1), latticeconstant={'a':a0, 'c':a0*c_a})\n",
    "    \n",
    "    ## Determine simulation cell scaling and scale cell\n",
    "    a = atoms_2m1m10.get_cell()[0][0]\n",
    "    b = atoms_2m1m10.get_cell()[1][1]\n",
    "    c = atoms_2m1m10.get_cell()[2][2]\n",
    "    size_new = (int(np.round(cell_dim[0]/a)), int(np.round(cell_dim[1]/b)), int(np.round(cell_dim[2]/c)))\n",
    "    atoms_2m1m10 = HexagonalClosedPacked(directions=[[0,1,-1,0],[0,0,0,1],[2,-1,-1,0]], \\\n",
    "                        size=size_new, symbol='Ti', pbc=(1,1,1), latticeconstant={'a':a0, 'c':a0*c_a})\n",
    "    ## Write to file\n",
    "    filename = 'HCP_Ti_2m1m10_LatPar_' + str(a0) + 'A' + '.vasp'\n",
    "    write(folder + filename, atoms_2m1m10, format=\"vasp\")\n",
    "    \n",
    "    # 0001 orientation\n",
    "    atoms_0001 = HexagonalClosedPacked(directions=[[2,-1,-1,0],[0,1,-1,0],[0,0,0,1]], \\\n",
    "                        size=(1,1,1), symbol='Ti', pbc=(1,1,1), latticeconstant={'a':a0, 'c':a0*c_a})\n",
    "    ## Determine simulation cell scaling and scale cell\n",
    "    a = atoms_0001.get_cell()[0][0]\n",
    "    b = atoms_0001.get_cell()[1][1]\n",
    "    c = atoms_0001.get_cell()[2][2]\n",
    "    size_new = (int(np.round(cell_dim[0]/a)), int(np.round(cell_dim[1]/b)), int(np.round(cell_dim[2]/c)))\n",
    "    atoms_0001 = HexagonalClosedPacked(directions=[[2,-1,-1,0],[0,1,-1,0],[0,0,0,1]], \\\n",
    "                        size=size_new, symbol='Ti', pbc=(1,1,1), latticeconstant={'a':a0, 'c':a0*c_a})\n",
    "    ## Write to file\n",
    "    filename = 'HCP_Ti_0001_LatPar_' + str(a0) + 'A' + '.vasp'\n",
    "    write(folder + filename, atoms_0001, format=\"vasp\")"
   ]
  }
 ],
 "metadata": {
  "kernelspec": {
   "display_name": "Python 3 (ipykernel)",
   "language": "python",
   "name": "python3"
  },
  "language_info": {
   "codemirror_mode": {
    "name": "ipython",
    "version": 3
   },
   "file_extension": ".py",
   "mimetype": "text/x-python",
   "name": "python",
   "nbconvert_exporter": "python",
   "pygments_lexer": "ipython3",
   "version": "3.7.13"
  }
 },
 "nbformat": 4,
 "nbformat_minor": 5
}
