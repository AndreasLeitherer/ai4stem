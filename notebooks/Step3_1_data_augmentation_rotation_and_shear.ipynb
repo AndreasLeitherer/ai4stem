{
 "cells": [
  {
   "cell_type": "markdown",
   "id": "ccb3c71b",
   "metadata": {},
   "source": [
    "This notebooks desribes, in detail, the first data augmentation step: given an extended simulation cell, extract the specified window size (here fixed to 100 pixels, corresponding to 12 Angstrom for the employed resolution of 0.12 Angstrom per pixel)."
   ]
  },
  {
   "cell_type": "markdown",
   "id": "aeedf65e",
   "metadata": {},
   "source": [
    "The pixel/Ansgrom ratio is specified in the following:"
   ]
  },
  {
   "cell_type": "code",
   "execution_count": null,
   "id": "29b25ef8",
   "metadata": {},
   "outputs": [],
   "source": [
    "pixel_to_angstrom = 0.12"
   ]
  },
  {
   "cell_type": "markdown",
   "id": "abb83372",
   "metadata": {},
   "source": [
    "# Import libraries"
   ]
  },
  {
   "cell_type": "code",
   "execution_count": null,
   "id": "9253cbc6",
   "metadata": {
    "ExecuteTime": {
     "end_time": "2023-02-18T17:08:10.991867Z",
     "start_time": "2023-02-18T17:08:10.987604Z"
    }
   },
   "outputs": [],
   "source": [
    "import os\n",
    "import h5py\n",
    "import matplotlib.pyplot as plt\n",
    "import numpy as np\n",
    "import numpy.matlib\n",
    "from scipy import ndimage"
   ]
  },
  {
   "cell_type": "markdown",
   "id": "c7d5c05c",
   "metadata": {},
   "source": [
    "# Change default figure size"
   ]
  },
  {
   "cell_type": "code",
   "execution_count": null,
   "id": "e04f6ebd",
   "metadata": {
    "ExecuteTime": {
     "end_time": "2023-02-18T17:05:36.781296Z",
     "start_time": "2023-02-18T17:05:36.776062Z"
    }
   },
   "outputs": [],
   "source": [
    "plt.rcParams['figure.figsize'] = [12, 8]"
   ]
  },
  {
   "cell_type": "markdown",
   "id": "cfb736fc",
   "metadata": {},
   "source": [
    "# Define folder and filename of data"
   ]
  },
  {
   "cell_type": "code",
   "execution_count": null,
   "id": "c7033baa",
   "metadata": {
    "ExecuteTime": {
     "end_time": "2023-02-18T17:05:53.695788Z",
     "start_time": "2023-02-18T17:05:53.689061Z"
    }
   },
   "outputs": [],
   "source": [
    "folder = './'\n",
    "\n",
    "files = [i for i in os.listdir(folder) if i.endswith(\"_convolved_STEM_image.hdf5\")]\n",
    "images = [os.path.join(folder, i) for i in files]\n",
    "\n",
    "images"
   ]
  },
  {
   "cell_type": "markdown",
   "id": "e82b94fd",
   "metadata": {},
   "source": [
    "# Loop through simulated STEM reference images and rotate"
   ]
  },
  {
   "cell_type": "code",
   "execution_count": null,
   "id": "3a15a7d2",
   "metadata": {
    "ExecuteTime": {
     "end_time": "2023-02-18T17:06:09.524286Z",
     "start_time": "2023-02-18T17:06:07.098570Z"
    }
   },
   "outputs": [],
   "source": [
    "for image in images:\n",
    "\n",
    "    # Read simulated STEM image from hdf5 file\n",
    "    file = h5py.File(image,'r')\n",
    "    img = file.get('convolved_stem_image/conv_stem')\n",
    "    pixel_size = [pixel_to_angstrom, pixel_to_angstrom] # Units: Angstrom. This needs to be adjusted if other resolutions are used\n",
    "    img = np.array(img)\n",
    "    \n",
    "    # Original image size\n",
    "    Nx, Ny = img.shape\n",
    "    \n",
    "    # If image size is odd, make even in the corresponding direction by removing a one pixel boundary\n",
    "    if (Nx % 2) == 0:\n",
    "        Nx = Nx\n",
    "    else:\n",
    "        img = img[:Nx-1,:]\n",
    "        \n",
    "    if (Ny % 2) == 0:\n",
    "        Ny = Ny\n",
    "    else:\n",
    "        img = img[:,:Ny-1]\n",
    "        \n",
    "    Nx, Ny = img.shape\n",
    "        \n",
    "    # Specify the minimum and maximum rotation angles and the rotation increment\n",
    "    rot_min = 0\n",
    "    rot_max = 90\n",
    "    rot_inc = 5\n",
    "    rot_range = np.arange(rot_min,rot_max+rot_inc,rot_inc)\n",
    "    \n",
    "    # Specify the field of view of the rotated images in Angstrom, so that all images are cropped to that size\n",
    "    fov = 12 # field of view in Angstrom\n",
    "\n",
    "    # Prepare output array\n",
    "    size_crop = int(np.round(fov/(np.round(pixel_size[0]*100)/100)))\n",
    "    img_rotated = np.zeros((size_crop, size_crop, rot_range.size), dtype=float)\n",
    "    Nx_rot, Ny_rot, Nz_rot = np.shape(img_rotated)\n",
    "\n",
    "    for a0 in range(0, rot_range.size, 1):\n",
    "\n",
    "        #Rotate images\n",
    "        img_rotated_temp = ndimage.rotate(img, rot_range[a0], reshape=False)\n",
    "\n",
    "        #Crop image to maintain same field of view of here 1.2x1.2nm**2, if rectangular use smaller dimension\n",
    "        #if (Nx-Ny) < 0:\n",
    "        #    crop = Nxrep-Nx, Nyrep-Ny\n",
    "        #elif (Nx-Ny) > 0:\n",
    "        #    crop = int(np.round(((Nyrot*pixel_size[0]-fov)/pixel_size[0])/2))\n",
    "        #else:\n",
    "        #    crop = int(np.round(((Nxrot*pixel_size[0]-fov)/pixel_size[0])/2))\n",
    "        \n",
    "        crop = int((Nx-Nx_rot)/2), int((Ny-Ny_rot)/2)\n",
    "\n",
    "        #Crop image\n",
    "        img_rotated[:,:,a0] = img_rotated_temp[crop[0]:int(Nx-crop[0]),crop[1]:int(Ny-crop[1])]\n",
    "    \n",
    "    # Close file before writing new content\n",
    "    file.close()\n",
    "    \n",
    "    # Save to hdf5 file\n",
    "    with h5py.File(image[:-5] + '_augmented_images_rotation.hdf5', 'w') as f_rotation:\n",
    "        group_image_rotation = f_rotation.create_group('Image_rotation')\n",
    "        group_image_rotation.create_dataset('Rotated_images', data=img_rotated)\n",
    "        group_image_rotation.create_dataset('Rotation_angles', data=rot_range)\n",
    "        \n",
    "        # Create attributes\n",
    "        group_image_rotation.attrs['Data description'] = ['Each simulated STEM image is roated by the rotation angles specified in Rotation_angles and is cropped to a field of view of 1.2nm x 1.2nm (here 100x100 pixels)']"
   ]
  },
  {
   "cell_type": "markdown",
   "id": "bc146c02",
   "metadata": {},
   "source": [
    "# Loop through simulated and rotated STEM images and apply shear transformation"
   ]
  },
  {
   "cell_type": "markdown",
   "id": "7a8f1da6",
   "metadata": {},
   "source": [
    "### Shear of the images is related to linear sample drift"
   ]
  },
  {
   "cell_type": "code",
   "execution_count": null,
   "id": "3528e239",
   "metadata": {
    "ExecuteTime": {
     "end_time": "2023-02-18T17:06:43.593407Z",
     "start_time": "2023-02-18T17:06:35.142681Z"
    }
   },
   "outputs": [],
   "source": [
    "from skimage.transform import warp, AffineTransform\n",
    "\n",
    "for image in images:\n",
    "\n",
    "    # Read simulated STEM image from hdf5 file\n",
    "    file = h5py.File(image,'r')\n",
    "    img = file.get('convolved_stem_image/conv_stem')\n",
    "    pixel_size = [pixel_to_angstrom, pixel_to_angstrom] # Units: Angstrom. This needs to be adjusted if other resolutions are used.\n",
    "    img = np.array(img)\n",
    "    \n",
    "    # Original image size\n",
    "    Nx, Ny = img.shape\n",
    "    \n",
    "    # If image size is odd, make even in the corresponding direction by removing a one pixel boundary\n",
    "    if (Nx % 2) == 0:\n",
    "        Nx = Nx\n",
    "    else:\n",
    "        img = img[:Nx-1,:]\n",
    "        \n",
    "    if (Ny % 2) == 0:\n",
    "        Ny = Ny\n",
    "    else:\n",
    "        img = img[:,:Ny-1]\n",
    "        \n",
    "    Nx, Ny = img.shape\n",
    "        \n",
    "    # Specify the minimum and maximum rotation angles and the rotation increment\n",
    "    rot_min = 0\n",
    "    rot_max = 90\n",
    "    rot_inc = 5\n",
    "    rot_range = np.arange(rot_min,rot_max+rot_inc,rot_inc)\n",
    "    \n",
    "    # Specify the minimum and maximum shear to be applied\n",
    "    shear_min = -0.05\n",
    "    shear_max = 0.05\n",
    "    shear_inc = 0.01\n",
    "    shear_range = np.arange(shear_min,shear_max+shear_inc/2,shear_inc)\n",
    "    shear_range = np.round(shear_range, decimals=2)\n",
    "    \n",
    "    # Specify the field of view of the rotated images in Angstrom, so that all images are cropped to that size\n",
    "    fov = 12 # field of view in Angstrom\n",
    "\n",
    "    # Prepare output array\n",
    "    size_crop = int(np.round(fov/(np.round(pixel_size[0]*100)/100)))\n",
    "    img_rotated_sheared = np.zeros((size_crop, size_crop, rot_range.size, shear_range.size), dtype=float)\n",
    "    Nx_rot_shear, Ny_rot_shear, Nz_rot_shear, Ns_rot_shear = np.shape(img_rotated_sheared)\n",
    "    \n",
    "    ## Set up temporary array for rotated and sheared images\n",
    "    #img_rotated_sheared_temp = np.zeros((Nx_rep, Ny_rep, shear_range.size), dtype=float)\n",
    "\n",
    "    for a0 in range(0, rot_range.size, 1):\n",
    "\n",
    "        #Rotate images\n",
    "        img_rotated_temp = ndimage.rotate(img, rot_range[a0], reshape=False)\n",
    "\n",
    "        #Crop image to maintain same field of view of here 1.2x1.2nm**2, if rectangular use smaller dimension\n",
    "        #if (Nx-Ny) < 0:\n",
    "        #    crop = Nxrep-Nx, Nyrep-Ny\n",
    "        #elif (Nx-Ny) > 0:\n",
    "        #    crop = int(np.round(((Nyrot*pixel_size[0]-fov)/pixel_size[0])/2))\n",
    "        #else:\n",
    "        #    crop = int(np.round(((Nxrot*pixel_size[0]-fov)/pixel_size[0])/2))\n",
    "        \n",
    "        for b0 in range(0, shear_range.size, 1):\n",
    "            \n",
    "            tform = AffineTransform(scale=(1.0, 1.0), rotation=0, shear=shear_range[b0],\n",
    "                        translation=(0, 0))\n",
    "            img_rotated_sheared_temp = warp(img_rotated_temp, tform.inverse, output_shape=(Nx, Ny))\n",
    "\n",
    "            #Crop image and write to array\n",
    "            crop = int((Nx-Nx_rot)/2), int((Ny-Ny_rot)/2)\n",
    "            img_rotated_sheared[:,:,a0,b0] = img_rotated_sheared_temp[crop[0]:int(Nx-crop[0]),crop[1]:int(Ny-crop[1])]\n",
    "            \n",
    "    # Close hdf5 file(s)  \n",
    "    file.close()\n",
    "    \n",
    "    # Save to hdf5 file\n",
    "    with h5py.File(image[:-5] + '_augmented_images_rotation&shear.hdf5', 'a') as f_rotation_shear:\n",
    "        group_image_rotation_shear = f_rotation_shear.create_group('Image_rotation_and_shear')\n",
    "        group_image_rotation_shear.create_dataset('Rotated_and_sheared_images', data=img_rotated_sheared)\n",
    "        group_image_rotation_shear.create_dataset('Rotation_angles', data=rot_range)\n",
    "        group_image_rotation_shear.create_dataset('Shear_range',data=shear_range)\n",
    "        \n",
    "        # Create attributes\n",
    "        group_image_rotation_shear.attrs['Data description'] = ['Rotated_and_sheared_images dimensions: [0: image size x; 1: image size y; 2: rotation angles (rot_range); 3: shear level (shear_range)]']"
   ]
  },
  {
   "cell_type": "markdown",
   "id": "e7a04e5d",
   "metadata": {},
   "source": [
    "# Test selected augmented images"
   ]
  },
  {
   "cell_type": "code",
   "execution_count": null,
   "id": "b713f08a",
   "metadata": {
    "ExecuteTime": {
     "end_time": "2023-02-18T17:06:47.662704Z",
     "start_time": "2023-02-18T17:06:47.476248Z"
    }
   },
   "outputs": [],
   "source": [
    "# Select file 'f_sel' and dataset 'data_sel'\n",
    "file_sel = 2\n",
    "data_sel = 2\n",
    "\n",
    "with h5py.File(images[file_sel][:-5] + '_augmented_images_rotation&shear.hdf5', 'r') as f:\n",
    "    \n",
    "    # Print name of data file\n",
    "    print(images[file_sel][:-5])\n",
    "    \n",
    "    # Extract datasets for each group\n",
    "    file_data = f.get('Image_rotation_and_shear')\n",
    "    img_data = file_data.get('Rotated_and_sheared_images')\n",
    "    print(img_data)\n",
    "    \n",
    "    plt.imshow(img_data[:,:,0,data_sel])\n",
    "    plt.axis('off')\n",
    "    plt.colorbar()\n",
    "    plt.show()"
   ]
  },
  {
   "cell_type": "code",
   "execution_count": null,
   "id": "975b4265",
   "metadata": {},
   "outputs": [],
   "source": []
  }
 ],
 "metadata": {
  "kernelspec": {
   "display_name": "Python 3 (ipykernel)",
   "language": "python",
   "name": "python3"
  },
  "language_info": {
   "codemirror_mode": {
    "name": "ipython",
    "version": 3
   },
   "file_extension": ".py",
   "mimetype": "text/x-python",
   "name": "python",
   "nbconvert_exporter": "python",
   "pygments_lexer": "ipython3",
   "version": "3.7.13"
  }
 },
 "nbformat": 4,
 "nbformat_minor": 5
}
