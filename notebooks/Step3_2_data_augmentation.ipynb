{
 "cells": [
  {
   "cell_type": "markdown",
   "id": "5ceda3bc",
   "metadata": {},
   "source": [
    "This notebook performs data augmentation in which no cropping takes place. This is qualtitatively different to the other data augmentation notebook, which should be executed first.\n",
    "\n",
    "All FFT descriptors are calculated within the notebook as well."
   ]
  },
  {
   "cell_type": "markdown",
   "id": "996193d7",
   "metadata": {},
   "source": [
    "# Import libraries"
   ]
  },
  {
   "cell_type": "code",
   "execution_count": null,
   "id": "454e6500",
   "metadata": {
    "ExecuteTime": {
     "end_time": "2023-02-18T17:09:16.158821Z",
     "start_time": "2023-02-18T17:09:16.153310Z"
    }
   },
   "outputs": [],
   "source": [
    "import os\n",
    "import h5py\n",
    "import matplotlib.pyplot as plt\n",
    "import numpy as np\n",
    "import numpy.matlib\n",
    "from scipy import ndimage\n",
    "from collections import Counter\n",
    "import itertools\n",
    "from scipy.signal import get_window\n",
    "import cv2\n",
    "from collections import defaultdict\n",
    "from scipy.stats import mode\n",
    "from scipy import stats"
   ]
  },
  {
   "cell_type": "code",
   "execution_count": null,
   "id": "0ba69b3e",
   "metadata": {
    "ExecuteTime": {
     "end_time": "2023-02-18T17:09:16.467370Z",
     "start_time": "2023-02-18T17:09:16.462930Z"
    }
   },
   "outputs": [],
   "source": [
    "# specify path in which data will be saved\n",
    "save_path = '.'"
   ]
  },
  {
   "cell_type": "markdown",
   "id": "ee98f42a",
   "metadata": {},
   "source": [
    "# Load all data"
   ]
  },
  {
   "cell_type": "code",
   "execution_count": null,
   "id": "a1ba1110",
   "metadata": {
    "ExecuteTime": {
     "end_time": "2023-02-18T17:09:17.597857Z",
     "start_time": "2023-02-18T17:09:17.593037Z"
    }
   },
   "outputs": [],
   "source": [
    "# Specify three folders where h5 files with simulated images can be found\n",
    "folders = ['.']\n"
   ]
  },
  {
   "cell_type": "code",
   "execution_count": null,
   "id": "9f5a92c2",
   "metadata": {
    "ExecuteTime": {
     "end_time": "2023-02-18T17:09:18.783230Z",
     "start_time": "2023-02-18T17:09:18.776574Z"
    }
   },
   "outputs": [],
   "source": [
    "# load all folders:\n",
    "files = []\n",
    "images = []\n",
    "for folder in folders:\n",
    "    files.extend( [i for i in os.listdir(folder) if 'augmented_images_rotation&shear' in i ] )\n",
    "    images.extend( [os.path.join(folder, i) for i in [i for i in os.listdir(folder) if 'augmented_images_rotation&shear' in i ] ] )"
   ]
  },
  {
   "cell_type": "code",
   "execution_count": null,
   "id": "5005ae1c",
   "metadata": {
    "ExecuteTime": {
     "end_time": "2023-02-18T17:09:19.748506Z",
     "start_time": "2023-02-18T17:09:19.739033Z"
    }
   },
   "outputs": [],
   "source": [
    "files"
   ]
  },
  {
   "cell_type": "markdown",
   "id": "1fe1e7ef",
   "metadata": {},
   "source": [
    "Exemplarily load one of the images:"
   ]
  },
  {
   "cell_type": "code",
   "execution_count": null,
   "id": "42879ccd",
   "metadata": {
    "ExecuteTime": {
     "end_time": "2023-02-18T17:09:44.771561Z",
     "start_time": "2023-02-18T17:09:44.759202Z"
    }
   },
   "outputs": [],
   "source": [
    "file = h5py.File(images[0],'r')\n",
    "print(file.keys())\n",
    "print(np.array(file.get('Image_rotation_and_shear').get('Rotated_and_sheared_images')).shape)\n",
    "file.close()"
   ]
  },
  {
   "cell_type": "markdown",
   "id": "00d6cc2e",
   "metadata": {},
   "source": [
    "# Load rotated and sheared images and calculate FFT"
   ]
  },
  {
   "cell_type": "code",
   "execution_count": null,
   "id": "0b21dfa7",
   "metadata": {
    "ExecuteTime": {
     "end_time": "2023-02-18T17:11:21.286078Z",
     "start_time": "2023-02-18T17:11:21.269351Z"
    }
   },
   "outputs": [],
   "source": [
    "def calc_fft(img, padding=(0, 0), power=2,\n",
    "             sigma=None, r_cut=None,\n",
    "             thresholding=False, apply_window=True, output_size=None,\n",
    "             output_shape=(64, 64)):\n",
    "    \"\"\"Given HAADF image, calculate HAADF-FFT descriptor\n",
    "    \n",
    "    Parameters: \n",
    "    \n",
    "    img: np.array\n",
    "        HAADF input image\n",
    "    padding: tuple\n",
    "        zero padding employed to bring image size to power of 2\n",
    "    power: int\n",
    "        Number by which FFT amplitude is exponentiated\n",
    "        in order to supress small fluctuations and\n",
    "        emphasize peaks\n",
    "    sigma: int\n",
    "        Width of gaussian window employed to cut out central\n",
    "        part of the FFT. In the standard setting (sigma=None),\n",
    "        no cutting employed.\n",
    "    r_cut: int\n",
    "        Size of rectangular window\n",
    "        that is used to cut the center of the FFT.\n",
    "        In the standard setting (sigma=None),\n",
    "        no cutting employed.\n",
    "    thresholding: bool\n",
    "        [incompletely implemented] If True, apply thresholding\n",
    "        procedure to mitigate influence of central peak\n",
    "    output_size: tuple\n",
    "        Output size of fft, if None, fft size will be given\n",
    "        by img.shape[0] and img.shape[1], if output size\n",
    "        larger than image size, crop image, if smaller, apply \n",
    "        zero padding \n",
    "    \"\"\"\n",
    "\n",
    "    # First step: normalize image\n",
    "    img = cv2.normalize(img, None,\n",
    "                       alpha=0, beta=1,\n",
    "                       norm_type=cv2.NORM_MINMAX, dtype=cv2.CV_32F)\n",
    "\n",
    "    if apply_window:\n",
    "        # windowing\n",
    "        bw2d = np.outer(get_window('hanning',img.shape[0]), \n",
    "                        np.ones(img.shape[1]))\n",
    "        bw2d_1 = np.transpose(np.outer(get_window('hanning',img.shape[1]), \n",
    "                                       np.ones(img.shape[0])))\n",
    "        w = np.sqrt(bw2d * bw2d_1)\n",
    "        img_windowed = img * w\n",
    "    else:\n",
    "        img_windowed = img\n",
    "    \n",
    "    # Calculate FFT\n",
    "    f = np.fft.fft2(img_windowed, s=output_size)\n",
    "    \n",
    "    # Calculate power spectrum (or higher order exponential)\n",
    "    fshift = np.fft.fftshift(np.power(np.abs(f), power))\n",
    "    \n",
    "    # Normalization\n",
    "    fshift = cv2.normalize(fshift, None,\n",
    "                           alpha=0, beta=1,\n",
    "                           norm_type=cv2.NORM_MINMAX, dtype=cv2.CV_32F)\n",
    "    \n",
    "    \n",
    "    # Remove central part of image, several options:\n",
    "    # Spherical cut:\n",
    "    if not r_cut == None:\n",
    "\n",
    "        xc = (fshift.shape[0] - 1.0) / 2.0\n",
    "        yc = (fshift.shape[1] - 1.0) / 2.0\n",
    "        # spherical mask\n",
    "        a, b = xc, yc\n",
    "        x, y = np.ogrid[-a:fshift.shape[0] - a, -b:fshift.shape[1] - b]\n",
    "\n",
    "        mask_out = x * x + y * y <= r_cut * r_cut\n",
    "\n",
    "        for i in range(fshift.shape[0]):\n",
    "            for j in range(fshift.shape[1]):\n",
    "                if mask_out[i, j]:\n",
    "                    fshift[i, j] = 0.0\n",
    "   \n",
    "    # cut using gaussian window: \n",
    "    if not sigma == None:\n",
    "        bw2d = np.outer(get_window(('gaussian', sigma), fshift.shape[0]), \n",
    "                    np.ones(fshift.shape[1]))\n",
    "        bw2d_1 = np.transpose(np.outer(get_window(('gaussian', sigma), fshift.shape[0]), \n",
    "                                       np.ones(fshift.shape[0])))\n",
    "        w = np.sqrt(bw2d * bw2d_1)\n",
    "        fshift = fshift * (1-w)\n",
    "\n",
    "    if thresholding:\n",
    "        # print(\"Threshold FFT spectrum\")\n",
    "        # Previous procedure employed by Byungchul\n",
    "        \"\"\"\n",
    "        intfft = np.sort(fshift.ravel())[::-1]\n",
    "        thresh = intfft[1]\n",
    "\n",
    "        output = fshift / thresh\n",
    "        #output[np.where(output[:]<0)] = 0 Neccessary?\n",
    "        output[np.where(output[:]>thresh)] = 1\n",
    "        \n",
    "        fshift = output\n",
    "        \"\"\"\n",
    "        # Chris:\n",
    "        fshift = cv2.normalize(fshift, None, \n",
    "                               alpha=0, beta=1, \n",
    "                               norm_type=cv2.NORM_MINMAX, dtype=cv2.CV_32F)\n",
    "        fshift = fshift/.1\n",
    "        fshift[fshift>1] = 1\n",
    "        fshift = cv2.normalize(fshift, None, \n",
    "                               alpha=0, beta=1, \n",
    "                               norm_type=cv2.NORM_MINMAX, dtype=cv2.CV_32F)\n",
    "        \n",
    "    \n",
    "    # Cut out 64x64 window around center of FFT\n",
    "    output = fshift\n",
    "    #output2 = np.zeros((64,64))\n",
    "    #for i in range(0,64):\n",
    "    #    for j in range(0,64):\n",
    "    #        output2[i,j] = output[int(float(output.shape[0])/float(2.0))-32+i,int(float(output.shape[1])/float(2.0))-32+j]\n",
    "\n",
    "    output2 = np.zeros(output_shape)\n",
    "    for i in range(0, output_shape[0]):\n",
    "        for j in range(0, output_shape[1]):\n",
    "            output2[i,j] = output[int(float(output.shape[0])/2.) - int(output_shape[0]/2.) + i,\n",
    "                                  int(float(output.shape[1])/2.0) - int(output_shape[1]/2.) + j]\n",
    "\n",
    "    \n",
    "    output2 = cv2.normalize(output2, None, \n",
    "                            alpha=0, beta=1, \n",
    "                            norm_type=cv2.NORM_MINMAX, dtype=cv2.CV_32F)\n",
    "    \n",
    "    return output2"
   ]
  },
  {
   "cell_type": "code",
   "execution_count": null,
   "id": "fccf0732",
   "metadata": {
    "ExecuteTime": {
     "end_time": "2023-02-18T17:11:47.193508Z",
     "start_time": "2023-02-18T17:11:29.224483Z"
    },
    "scrolled": true
   },
   "outputs": [],
   "source": [
    "all_images = []\n",
    "all_images_fft = []\n",
    "all_labels = []\n",
    "\n",
    "# FFT parameters\n",
    "thresholding = True\n",
    "r_cut = None\n",
    "sigma = None\n",
    "\n",
    "for idx in range(len(images)):\n",
    "    \n",
    "    print(images[idx])\n",
    "\n",
    "    file = h5py.File(images[idx],'r')\n",
    "    \n",
    "    # get keys \n",
    "    file_ending_current_image = '_'.join(images[idx].split('/')[-1].split('_')[-4:])\n",
    "\n",
    "    #Extract datasets for each group\n",
    "    file_data = file.get(\"Image_rotation_and_shear\")\n",
    "    img = file_data.get(\"Rotated_and_sheared_images\")\n",
    "    \n",
    "    current_structure = '_'.join(images[idx].split('/')[-1].split('_')[:-4])\n",
    "    \n",
    "    img_shape = img.shape\n",
    "    \n",
    "    for rot in range(img_shape[-2]):\n",
    "        for shear in range(img_shape[-1]):\n",
    "\n",
    "            all_images.append(img[:, :, rot, shear])\n",
    "            all_labels.append(current_structure + '_rot_{}_shear_{}'.format(rot, shear))\n",
    "\n",
    "            fft_desc = calc_fft(img[:, :, rot, shear],\n",
    "                                r_cut=r_cut, thresholding=thresholding,\n",
    "                                sigma=sigma)\n",
    "            all_images_fft.append(fft_desc)"
   ]
  },
  {
   "cell_type": "code",
   "execution_count": null,
   "id": "f4aab9fe",
   "metadata": {
    "ExecuteTime": {
     "end_time": "2023-02-18T17:12:12.326991Z",
     "start_time": "2023-02-18T17:12:12.321478Z"
    }
   },
   "outputs": [],
   "source": [
    "len(all_images_fft)"
   ]
  },
  {
   "cell_type": "code",
   "execution_count": null,
   "id": "01c6a561",
   "metadata": {
    "ExecuteTime": {
     "end_time": "2023-02-18T17:12:24.756729Z",
     "start_time": "2023-02-18T17:12:24.655837Z"
    }
   },
   "outputs": [],
   "source": [
    "# Save HAADF images\n",
    "np.save(os.path.join(save_path, 'X_haadf.npy'), np.array(all_images))\n",
    "\n",
    "# Save labels\n",
    "np.save(os.path.join(save_path, 'y_fulllabels.npy'), all_labels)"
   ]
  },
  {
   "cell_type": "code",
   "execution_count": null,
   "id": "46889b84",
   "metadata": {
    "ExecuteTime": {
     "end_time": "2023-02-18T17:12:24.894525Z",
     "start_time": "2023-02-18T17:12:24.866043Z"
    }
   },
   "outputs": [],
   "source": [
    "print(np.array(all_images).shape)"
   ]
  },
  {
   "cell_type": "code",
   "execution_count": null,
   "id": "26c7b5f4",
   "metadata": {
    "ExecuteTime": {
     "end_time": "2023-02-18T17:12:30.011403Z",
     "start_time": "2023-02-18T17:12:29.972418Z"
    }
   },
   "outputs": [],
   "source": [
    "# Save HAADF FFTs\n",
    "np.save(os.path.join(save_path, 'X_fft.npy'), np.array(all_images_fft))"
   ]
  },
  {
   "cell_type": "markdown",
   "id": "d7ce3d33",
   "metadata": {},
   "source": [
    "### Define relation between labels and int labels"
   ]
  },
  {
   "cell_type": "code",
   "execution_count": null,
   "id": "a5ddcb21",
   "metadata": {
    "ExecuteTime": {
     "end_time": "2023-02-18T17:12:36.481455Z",
     "start_time": "2023-02-18T17:12:36.473673Z"
    }
   },
   "outputs": [],
   "source": [
    "a = [_.split('_')[:3] for _ in all_labels]\n",
    "b = ['_'.join(_) for _ in a]"
   ]
  },
  {
   "cell_type": "code",
   "execution_count": null,
   "id": "761e4269",
   "metadata": {
    "ExecuteTime": {
     "end_time": "2023-02-18T17:12:39.698621Z",
     "start_time": "2023-02-18T17:12:39.693077Z"
    }
   },
   "outputs": [],
   "source": [
    "unique_labels = np.unique(b)\n",
    "print(unique_labels)"
   ]
  },
  {
   "cell_type": "code",
   "execution_count": null,
   "id": "8ca1dabf",
   "metadata": {
    "ExecuteTime": {
     "end_time": "2023-02-18T17:12:42.043706Z",
     "start_time": "2023-02-18T17:12:42.037503Z"
    }
   },
   "outputs": [],
   "source": [
    "numerical_to_text_labels = dict(zip(range(len(unique_labels)), unique_labels))\n",
    "text_to_numerical_labels = dict(zip(unique_labels, range(len(unique_labels))))\n",
    "print(numerical_to_text_labels, text_to_numerical_labels)"
   ]
  },
  {
   "cell_type": "code",
   "execution_count": null,
   "id": "de6ec35b",
   "metadata": {
    "ExecuteTime": {
     "end_time": "2023-02-18T17:12:44.845697Z",
     "start_time": "2023-02-18T17:12:44.837910Z"
    }
   },
   "outputs": [],
   "source": [
    "import json\n",
    "\n",
    "with open(os.path.join(save_path, 'text_to_numerical_labels.json'), 'w') as f:\n",
    "    json.dump(text_to_numerical_labels, f)\n",
    "    \n",
    "with open(os.path.join(save_path, 'numerical_to_text_labels.json'), 'w') as f:\n",
    "    json.dump(numerical_to_text_labels, f)"
   ]
  },
  {
   "cell_type": "code",
   "execution_count": null,
   "id": "b6e40652",
   "metadata": {
    "ExecuteTime": {
     "end_time": "2023-02-18T17:12:48.148254Z",
     "start_time": "2023-02-18T17:12:48.141857Z"
    }
   },
   "outputs": [],
   "source": [
    "converted_labels = [text_to_numerical_labels[_] for _ in b]"
   ]
  },
  {
   "cell_type": "code",
   "execution_count": null,
   "id": "ce2707c9",
   "metadata": {
    "ExecuteTime": {
     "end_time": "2023-02-18T17:12:52.914974Z",
     "start_time": "2023-02-18T17:12:52.907619Z"
    }
   },
   "outputs": [],
   "source": [
    "np.save(os.path.join(save_path,\n",
    "                     'y.npy'), np.array(converted_labels))"
   ]
  },
  {
   "cell_type": "markdown",
   "id": "9868826e",
   "metadata": {},
   "source": [
    "# Add noise"
   ]
  },
  {
   "cell_type": "code",
   "execution_count": null,
   "id": "9566dafe",
   "metadata": {
    "ExecuteTime": {
     "end_time": "2023-02-18T17:12:55.673607Z",
     "start_time": "2023-02-18T17:12:55.661416Z"
    }
   },
   "outputs": [],
   "source": [
    "from scipy.ndimage import gaussian_filter\n",
    "from skimage.util import random_noise"
   ]
  },
  {
   "cell_type": "code",
   "execution_count": null,
   "id": "46762cf2",
   "metadata": {
    "ExecuteTime": {
     "end_time": "2023-02-18T17:19:06.811879Z",
     "start_time": "2023-02-18T17:19:05.619737Z"
    }
   },
   "outputs": [],
   "source": [
    "# Extract subselection, otherwise may run into memory problems - at least\n",
    "# if not run on high-performance computing cluster\n",
    "\n",
    "raw_images = []\n",
    "raw_labels = []\n",
    "\n",
    "for idx in range(len(images)):\n",
    "    \n",
    "    print(images[idx])\n",
    "\n",
    "    file = h5py.File(images[idx],'r')\n",
    "    \n",
    "    # get keys \n",
    "    file_ending_current_image = '_'.join(images[idx].split('/')[-1].split('_')[-4:])\n",
    "\n",
    "    #Extract datasets for each group\n",
    "    file_data = file.get(\"Image_rotation_and_shear\")\n",
    "    img = file_data.get(\"Rotated_and_sheared_images\")\n",
    "    \n",
    "    current_structure = '_'.join(images[idx].split('/')[-1].split('_')[:-4])\n",
    "    \n",
    "    img_shape = img.shape\n",
    "    \n",
    "    for rot in range(img_shape[-2])[::2]:\n",
    "        for shear in range(img_shape[-1])[::2]:\n",
    "\n",
    "            raw_images.append(img[:, :, rot, shear])\n",
    "            raw_labels.append(current_structure + '_rot_{}_shear_{}'.format(rot, shear))\n",
    "print(len(raw_images))"
   ]
  },
  {
   "cell_type": "markdown",
   "id": "cf9925d5",
   "metadata": {},
   "source": [
    "## Poisson noise"
   ]
  },
  {
   "cell_type": "code",
   "execution_count": null,
   "id": "30a05cf4",
   "metadata": {
    "ExecuteTime": {
     "end_time": "2023-02-18T17:19:14.764586Z",
     "start_time": "2023-02-18T17:19:12.999370Z"
    }
   },
   "outputs": [],
   "source": [
    "images_w_poisson = []\n",
    "labels_w_poisson = []\n",
    "iterations = 2\n",
    "\n",
    "for img, current_structure in zip(raw_images, raw_labels):\n",
    "               \n",
    "    # NORMALIZE\n",
    "    current_image = cv2.normalize(img, None,\n",
    "                                  alpha=0, beta=1,\n",
    "                                  norm_type=cv2.NORM_MINMAX, dtype=cv2.CV_32F)\n",
    "\n",
    "    images_w_poisson.append(current_image)\n",
    "    labels_w_poisson.append(current_structure)\n",
    "\n",
    "    for it in range(iterations):\n",
    "        distorted_image = random_noise(current_image, mode='poisson')\n",
    "        images_w_poisson.append(distorted_image)\n",
    "        labels_w_poisson.append('{}_pois_it_{}'.format(current_structure, it))"
   ]
  },
  {
   "cell_type": "code",
   "execution_count": null,
   "id": "d3627d44",
   "metadata": {
    "ExecuteTime": {
     "end_time": "2023-02-18T17:19:14.769721Z",
     "start_time": "2023-02-18T17:19:14.766305Z"
    }
   },
   "outputs": [],
   "source": [
    "print(len(images_w_poisson))"
   ]
  },
  {
   "cell_type": "code",
   "execution_count": null,
   "id": "2e59aacb",
   "metadata": {
    "ExecuteTime": {
     "end_time": "2023-02-18T17:19:14.784386Z",
     "start_time": "2023-02-18T17:19:14.771378Z"
    }
   },
   "outputs": [],
   "source": [
    "np.unique(list(Counter(labels_w_poisson).values()))"
   ]
  },
  {
   "cell_type": "code",
   "execution_count": null,
   "id": "f8e91c60",
   "metadata": {
    "ExecuteTime": {
     "end_time": "2023-02-18T17:19:14.874493Z",
     "start_time": "2023-02-18T17:19:14.859388Z"
    }
   },
   "outputs": [],
   "source": [
    "labels_w_poisson"
   ]
  },
  {
   "cell_type": "markdown",
   "id": "f5bf68f9",
   "metadata": {},
   "source": [
    "# Add Blurring"
   ]
  },
  {
   "cell_type": "code",
   "execution_count": null,
   "id": "e43582f8",
   "metadata": {
    "ExecuteTime": {
     "end_time": "2023-02-18T17:19:19.001714Z",
     "start_time": "2023-02-18T17:19:17.979739Z"
    }
   },
   "outputs": [],
   "source": [
    "widths = [2, 4]\n",
    "images_w_poisson_w_gaussian = []\n",
    "labels_w_poisson_w_gaussian = []\n",
    "\n",
    "for current_image, current_label in zip(images_w_poisson, labels_w_poisson):\n",
    "\n",
    "    images_w_poisson_w_gaussian.append(current_image)\n",
    "    labels_w_poisson_w_gaussian.append(current_label)\n",
    "    \n",
    "    for width in widths:\n",
    "\n",
    "        distorted_image = gaussian_filter(current_image, sigma=width)\n",
    "\n",
    "        images_w_poisson_w_gaussian.append(distorted_image)\n",
    "        labels_w_poisson_w_gaussian.append(current_label + '_gwidth_' + str(width))"
   ]
  },
  {
   "cell_type": "code",
   "execution_count": null,
   "id": "8fe3d5b6",
   "metadata": {
    "ExecuteTime": {
     "end_time": "2023-02-18T17:19:19.005913Z",
     "start_time": "2023-02-18T17:19:19.003319Z"
    }
   },
   "outputs": [],
   "source": [
    "print(len(images_w_poisson_w_gaussian))"
   ]
  },
  {
   "cell_type": "code",
   "execution_count": null,
   "id": "eca741f7",
   "metadata": {
    "ExecuteTime": {
     "end_time": "2023-02-18T17:19:19.513100Z",
     "start_time": "2023-02-18T17:19:19.505115Z"
    }
   },
   "outputs": [],
   "source": [
    "np.unique(list(Counter(labels_w_poisson_w_gaussian).values()))"
   ]
  },
  {
   "cell_type": "code",
   "execution_count": null,
   "id": "2604c458",
   "metadata": {
    "ExecuteTime": {
     "end_time": "2023-02-18T17:19:20.360026Z",
     "start_time": "2023-02-18T17:19:20.335055Z"
    }
   },
   "outputs": [],
   "source": [
    "labels_w_poisson_w_gaussian"
   ]
  },
  {
   "cell_type": "markdown",
   "id": "44aaede0",
   "metadata": {},
   "source": [
    "# Add Gaussian noise"
   ]
  },
  {
   "cell_type": "code",
   "execution_count": null,
   "id": "8aab8ca3",
   "metadata": {
    "ExecuteTime": {
     "end_time": "2023-02-18T17:19:25.503224Z",
     "start_time": "2023-02-18T17:19:23.942274Z"
    }
   },
   "outputs": [],
   "source": [
    "var_list = [0.005, 0.01]\n",
    "images_w_poisson_w_gaussian_w_gnoise = []\n",
    "labels_w_poisson_w_gaussian_w_gnoise = []\n",
    "\n",
    "for current_image, current_label in zip(images_w_poisson_w_gaussian, labels_w_poisson_w_gaussian):\n",
    "    \n",
    "    if 'pois' in current_label or 'gwidth' in current_label:\n",
    "        # only keep distorted, not pristine or those with scan noise\n",
    "        images_w_poisson_w_gaussian_w_gnoise.append(current_image)\n",
    "        labels_w_poisson_w_gaussian_w_gnoise.append(current_label)\n",
    "        \n",
    "    if 'pois' in current_label:\n",
    "        # don't add gaussian noise AND poisson noise\n",
    "        continue\n",
    "    \n",
    "    for var in var_list:\n",
    "        distorted_image = random_noise(current_image, mode='gaussian', var=var)\n",
    "        \n",
    "        images_w_poisson_w_gaussian_w_gnoise.append(distorted_image)\n",
    "        labels_w_poisson_w_gaussian_w_gnoise.append(current_label + '_gnoisevar_' + str(var))"
   ]
  },
  {
   "cell_type": "code",
   "execution_count": null,
   "id": "3e33653c",
   "metadata": {
    "ExecuteTime": {
     "end_time": "2023-02-18T17:19:25.511828Z",
     "start_time": "2023-02-18T17:19:25.504928Z"
    }
   },
   "outputs": [],
   "source": [
    "np.unique(list(Counter(labels_w_poisson_w_gaussian_w_gnoise).values()))"
   ]
  },
  {
   "cell_type": "code",
   "execution_count": null,
   "id": "a1f4a608",
   "metadata": {
    "ExecuteTime": {
     "end_time": "2023-02-18T17:19:25.524219Z",
     "start_time": "2023-02-18T17:19:25.513358Z"
    }
   },
   "outputs": [],
   "source": [
    "print(len(labels_w_poisson_w_gaussian_w_gnoise))"
   ]
  },
  {
   "cell_type": "code",
   "execution_count": null,
   "id": "828458b4",
   "metadata": {
    "ExecuteTime": {
     "end_time": "2023-02-18T17:19:26.487094Z",
     "start_time": "2023-02-18T17:19:26.473333Z"
    }
   },
   "outputs": [],
   "source": [
    "labels_w_poisson_w_gaussian_w_gnoise"
   ]
  },
  {
   "cell_type": "markdown",
   "id": "cf9561e9",
   "metadata": {},
   "source": [
    "# Calculate FFT for distorted images"
   ]
  },
  {
   "cell_type": "code",
   "execution_count": null,
   "id": "ef34a8f1",
   "metadata": {
    "ExecuteTime": {
     "end_time": "2023-02-18T17:20:16.188188Z",
     "start_time": "2023-02-18T17:19:34.792925Z"
    }
   },
   "outputs": [],
   "source": [
    "# images_distorted = []\n",
    "ffts_distorted = []\n",
    "labels_distorted = []\n",
    "r_cut = None\n",
    "sigma = None\n",
    "thresholding = True\n",
    "\n",
    "for img, label in zip(images_w_poisson_w_gaussian_w_gnoise, \n",
    "                     labels_w_poisson_w_gaussian_w_gnoise):\n",
    "    \n",
    "    fft_desc = calc_fft(img, r_cut=r_cut,\n",
    "                    thresholding=thresholding,\n",
    "                    sigma=sigma)\n",
    "    \n",
    "    ffts_distorted.append(fft_desc)\n",
    "    labels_distorted.append(label)"
   ]
  },
  {
   "cell_type": "code",
   "execution_count": null,
   "id": "cd6216aa",
   "metadata": {
    "ExecuteTime": {
     "end_time": "2023-02-18T17:20:16.193636Z",
     "start_time": "2023-02-18T17:20:16.189909Z"
    }
   },
   "outputs": [],
   "source": [
    "len(ffts_distorted)"
   ]
  },
  {
   "cell_type": "code",
   "execution_count": null,
   "id": "19506e95",
   "metadata": {
    "ExecuteTime": {
     "end_time": "2023-02-18T17:20:17.602312Z",
     "start_time": "2023-02-18T17:20:17.060718Z"
    }
   },
   "outputs": [],
   "source": [
    "# Save\n",
    "np.save(os.path.join(save_path, 'X_distorted_HAADF.npy'), np.asarray(images_w_poisson_w_gaussian_w_gnoise))\n",
    "\n",
    "np.save(os.path.join(save_path, 'X_fft_distorted.npy'), np.asarray(ffts_distorted))\n",
    "\n",
    "np.save(os.path.join(save_path, 'y_fft_distorted.npy'), np.asarray(labels_distorted))"
   ]
  },
  {
   "cell_type": "code",
   "execution_count": null,
   "id": "2cdb9833",
   "metadata": {
    "ExecuteTime": {
     "end_time": "2023-02-18T17:20:19.040761Z",
     "start_time": "2023-02-18T17:20:19.026226Z"
    }
   },
   "outputs": [],
   "source": [
    "a = [_.split('_')[:3] for _ in labels_distorted]\n",
    "b = ['_'.join(_) for _ in a]\n",
    "converted_labels = [text_to_numerical_labels[_] for _ in b]\n",
    "\n",
    "np.save(os.path.join(save_path, 'y_fft_distorted_int.npy'), np.asarray(converted_labels))"
   ]
  }
 ],
 "metadata": {
  "kernelspec": {
   "display_name": "Python 3 (ipykernel)",
   "language": "python",
   "name": "python3"
  },
  "language_info": {
   "codemirror_mode": {
    "name": "ipython",
    "version": 3
   },
   "file_extension": ".py",
   "mimetype": "text/x-python",
   "name": "python",
   "nbconvert_exporter": "python",
   "pygments_lexer": "ipython3",
   "version": "3.7.11"
  }
 },
 "nbformat": 4,
 "nbformat_minor": 5
}
