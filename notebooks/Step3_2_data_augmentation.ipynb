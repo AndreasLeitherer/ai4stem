{
 "cells": [
  {
   "cell_type": "markdown",
   "id": "5ceda3bc",
   "metadata": {},
   "source": [
    "This notebook performs data augmentation steps in which no cropping takes place. This is qualtitatively different to the other data augmentation notebook, which should be executed first.\n",
    "\n",
    "All FFT descriptors are calculated within the notebook as well."
   ]
  },
  {
   "cell_type": "markdown",
   "id": "996193d7",
   "metadata": {},
   "source": [
    "# Import libraries"
   ]
  },
  {
   "cell_type": "code",
   "execution_count": null,
   "id": "454e6500",
   "metadata": {
    "ExecuteTime": {
     "end_time": "2023-02-18T17:09:16.158821Z",
     "start_time": "2023-02-18T17:09:16.153310Z"
    }
   },
   "outputs": [],
   "source": [
    "import os\n",
    "import h5py\n",
    "import matplotlib.pyplot as plt\n",
    "import numpy as np\n",
    "import numpy.matlib\n",
    "from scipy import ndimage\n",
    "from collections import Counter\n",
    "import itertools\n",
    "from scipy.signal import get_window\n",
    "import cv2\n",
    "from collections import defaultdict\n",
    "from scipy.stats import mode\n",
    "from scipy import stats\n",
    "from ai4stem.utils.utils_fft import calc_fft\n",
    "import json"
   ]
  },
  {
   "cell_type": "code",
   "execution_count": null,
   "id": "0ba69b3e",
   "metadata": {
    "ExecuteTime": {
     "end_time": "2023-02-18T17:09:16.467370Z",
     "start_time": "2023-02-18T17:09:16.462930Z"
    }
   },
   "outputs": [],
   "source": [
    "# specify path in which data will be saved\n",
    "save_path = '.'"
   ]
  },
  {
   "cell_type": "markdown",
   "id": "ee98f42a",
   "metadata": {},
   "source": [
    "# Load all data"
   ]
  },
  {
   "cell_type": "code",
   "execution_count": null,
   "id": "a1ba1110",
   "metadata": {
    "ExecuteTime": {
     "end_time": "2023-02-18T17:09:17.597857Z",
     "start_time": "2023-02-18T17:09:17.593037Z"
    }
   },
   "outputs": [],
   "source": [
    "# Specify three folders where h5 files with simulated images can be found\n",
    "folders = ['.']\n"
   ]
  },
  {
   "cell_type": "code",
   "execution_count": null,
   "id": "9f5a92c2",
   "metadata": {
    "ExecuteTime": {
     "end_time": "2023-02-18T17:09:18.783230Z",
     "start_time": "2023-02-18T17:09:18.776574Z"
    }
   },
   "outputs": [],
   "source": [
    "# load all folders:\n",
    "files = []\n",
    "images = []\n",
    "for folder in folders:\n",
    "    files.extend( [i for i in os.listdir(folder) if 'augmented_images_rotation&shear' in i ] )\n",
    "    images.extend( [os.path.join(folder, i) for i in [i for i in os.listdir(folder) if 'augmented_images_rotation&shear' in i ] ] )"
   ]
  },
  {
   "cell_type": "code",
   "execution_count": null,
   "id": "5005ae1c",
   "metadata": {
    "ExecuteTime": {
     "end_time": "2023-02-18T17:09:19.748506Z",
     "start_time": "2023-02-18T17:09:19.739033Z"
    }
   },
   "outputs": [],
   "source": [
    "files"
   ]
  },
  {
   "cell_type": "markdown",
   "id": "1fe1e7ef",
   "metadata": {},
   "source": [
    "Exemplarily load one of the images:"
   ]
  },
  {
   "cell_type": "code",
   "execution_count": null,
   "id": "42879ccd",
   "metadata": {
    "ExecuteTime": {
     "end_time": "2023-02-18T17:09:44.771561Z",
     "start_time": "2023-02-18T17:09:44.759202Z"
    }
   },
   "outputs": [],
   "source": [
    "file = h5py.File(images[0],'r')\n",
    "print(file.keys())\n",
    "print(np.array(file.get('Image_rotation_and_shear').get('Rotated_and_sheared_images')).shape)\n",
    "file.close()"
   ]
  },
  {
   "cell_type": "markdown",
   "id": "00d6cc2e",
   "metadata": {},
   "source": [
    "# Load rotated and sheared images and calculate FFT"
   ]
  },
  {
   "cell_type": "code",
   "execution_count": null,
   "id": "fccf0732",
   "metadata": {
    "ExecuteTime": {
     "end_time": "2023-02-18T17:11:47.193508Z",
     "start_time": "2023-02-18T17:11:29.224483Z"
    },
    "scrolled": true
   },
   "outputs": [],
   "source": [
    "all_images = []\n",
    "all_images_fft = []\n",
    "all_labels = []\n",
    "\n",
    "# FFT parameters\n",
    "thresholding = True\n",
    "r_cut = None\n",
    "sigma = None\n",
    "\n",
    "for idx in range(len(images)):\n",
    "    \n",
    "    print(images[idx])\n",
    "\n",
    "    file = h5py.File(images[idx],'r')\n",
    "    \n",
    "    # get keys \n",
    "    file_ending_current_image = '_'.join(images[idx].split('/')[-1].split('_')[-4:])\n",
    "\n",
    "    #Extract datasets for each group\n",
    "    file_data = file.get(\"Image_rotation_and_shear\")\n",
    "    img = file_data.get(\"Rotated_and_sheared_images\")\n",
    "    \n",
    "    current_structure = '_'.join(images[idx].split('/')[-1].split('_')[:-4])\n",
    "    \n",
    "    img_shape = img.shape\n",
    "    \n",
    "    for rot in range(img_shape[-2]):\n",
    "        for shear in range(img_shape[-1]):\n",
    "\n",
    "            all_images.append(img[:, :, rot, shear])\n",
    "            all_labels.append(current_structure + '_rot_{}_shear_{}'.format(rot, shear))\n",
    "\n",
    "            fft_desc = calc_fft(img[:, :, rot, shear],\n",
    "                                r_cut=r_cut, thresholding=thresholding,\n",
    "                                sigma=sigma)\n",
    "            all_images_fft.append(fft_desc)"
   ]
  },
  {
   "cell_type": "code",
   "execution_count": null,
   "id": "f4aab9fe",
   "metadata": {
    "ExecuteTime": {
     "end_time": "2023-02-18T17:12:12.326991Z",
     "start_time": "2023-02-18T17:12:12.321478Z"
    }
   },
   "outputs": [],
   "source": [
    "print('# of rotated and sheared images = {}'.format(len(all_images_fft)))"
   ]
  },
  {
   "cell_type": "code",
   "execution_count": null,
   "id": "01c6a561",
   "metadata": {
    "ExecuteTime": {
     "end_time": "2023-02-18T17:12:24.756729Z",
     "start_time": "2023-02-18T17:12:24.655837Z"
    }
   },
   "outputs": [],
   "source": [
    "# Save HAADF images\n",
    "np.save(os.path.join(save_path, 'X_haadf_rotation_and_shear.npy'), np.array(all_images))\n",
    "\n",
    "# Save labels\n",
    "np.save(os.path.join(save_path, 'y_rotation_and_shear.npy'), all_labels)"
   ]
  },
  {
   "cell_type": "code",
   "execution_count": null,
   "id": "46889b84",
   "metadata": {
    "ExecuteTime": {
     "end_time": "2023-02-18T17:12:24.894525Z",
     "start_time": "2023-02-18T17:12:24.866043Z"
    }
   },
   "outputs": [],
   "source": [
    "print(np.array(all_images).shape)"
   ]
  },
  {
   "cell_type": "code",
   "execution_count": null,
   "id": "26c7b5f4",
   "metadata": {
    "ExecuteTime": {
     "end_time": "2023-02-18T17:12:30.011403Z",
     "start_time": "2023-02-18T17:12:29.972418Z"
    }
   },
   "outputs": [],
   "source": [
    "# Save HAADF FFTs\n",
    "np.save(os.path.join(save_path, 'X_fft_haadf_rotation_and_shear.npy'), np.array(all_images_fft))"
   ]
  },
  {
   "cell_type": "markdown",
   "id": "d7ce3d33",
   "metadata": {},
   "source": [
    "### Define relation between labels and int labels"
   ]
  },
  {
   "cell_type": "code",
   "execution_count": null,
   "id": "a5ddcb21",
   "metadata": {
    "ExecuteTime": {
     "end_time": "2023-02-18T17:12:36.481455Z",
     "start_time": "2023-02-18T17:12:36.473673Z"
    }
   },
   "outputs": [],
   "source": [
    "a = [_.split('_')[:3] for _ in all_labels]\n",
    "b = ['_'.join(_) for _ in a]"
   ]
  },
  {
   "cell_type": "code",
   "execution_count": null,
   "id": "761e4269",
   "metadata": {
    "ExecuteTime": {
     "end_time": "2023-02-18T17:12:39.698621Z",
     "start_time": "2023-02-18T17:12:39.693077Z"
    }
   },
   "outputs": [],
   "source": [
    "unique_labels = np.unique(b)\n",
    "print(unique_labels)"
   ]
  },
  {
   "cell_type": "code",
   "execution_count": null,
   "id": "8ca1dabf",
   "metadata": {
    "ExecuteTime": {
     "end_time": "2023-02-18T17:12:42.043706Z",
     "start_time": "2023-02-18T17:12:42.037503Z"
    }
   },
   "outputs": [],
   "source": [
    "numerical_to_text_labels = dict(zip(range(len(unique_labels)), unique_labels))\n",
    "text_to_numerical_labels = dict(zip(unique_labels, range(len(unique_labels))))\n",
    "print(numerical_to_text_labels, text_to_numerical_labels)"
   ]
  },
  {
   "cell_type": "code",
   "execution_count": null,
   "id": "de6ec35b",
   "metadata": {
    "ExecuteTime": {
     "end_time": "2023-02-18T17:12:44.845697Z",
     "start_time": "2023-02-18T17:12:44.837910Z"
    }
   },
   "outputs": [],
   "source": [
    "with open(os.path.join(save_path, 'text_to_numerical_labels.json'), 'w') as f:\n",
    "    json.dump(text_to_numerical_labels, f)\n",
    "    \n",
    "with open(os.path.join(save_path, 'numerical_to_text_labels.json'), 'w') as f:\n",
    "    json.dump(numerical_to_text_labels, f)"
   ]
  },
  {
   "cell_type": "code",
   "execution_count": null,
   "id": "b6e40652",
   "metadata": {
    "ExecuteTime": {
     "end_time": "2023-02-18T17:12:48.148254Z",
     "start_time": "2023-02-18T17:12:48.141857Z"
    }
   },
   "outputs": [],
   "source": [
    "converted_labels = [text_to_numerical_labels[_] for _ in b]"
   ]
  },
  {
   "cell_type": "code",
   "execution_count": null,
   "id": "ce2707c9",
   "metadata": {
    "ExecuteTime": {
     "end_time": "2023-02-18T17:12:52.914974Z",
     "start_time": "2023-02-18T17:12:52.907619Z"
    }
   },
   "outputs": [],
   "source": [
    "# save int labels\n",
    "np.save(os.path.join(save_path,\n",
    "                     'y_rotatation_and_shear_int.npy'), np.array(converted_labels))"
   ]
  },
  {
   "cell_type": "markdown",
   "id": "9868826e",
   "metadata": {},
   "source": [
    "# Add noise"
   ]
  },
  {
   "cell_type": "markdown",
   "id": "dc7babad",
   "metadata": {},
   "source": [
    "Consider a subselection of images for addition of noise. This is done to keep the number of data points below (at the order of) 100k."
   ]
  },
  {
   "cell_type": "code",
   "execution_count": null,
   "id": "9566dafe",
   "metadata": {
    "ExecuteTime": {
     "end_time": "2023-02-18T17:12:55.673607Z",
     "start_time": "2023-02-18T17:12:55.661416Z"
    }
   },
   "outputs": [],
   "source": [
    "from scipy.ndimage import gaussian_filter\n",
    "from skimage.util import random_noise"
   ]
  },
  {
   "cell_type": "code",
   "execution_count": null,
   "id": "46762cf2",
   "metadata": {
    "ExecuteTime": {
     "end_time": "2023-02-18T17:19:06.811879Z",
     "start_time": "2023-02-18T17:19:05.619737Z"
    }
   },
   "outputs": [],
   "source": [
    "# Extract subselection, otherwise may run into memory problems - at least\n",
    "# if not run on high-performance computing cluster\n",
    "\n",
    "raw_images = []\n",
    "raw_labels = []\n",
    "\n",
    "for idx in range(len(images)):\n",
    "    \n",
    "    print(images[idx])\n",
    "\n",
    "    file = h5py.File(images[idx],'r')\n",
    "    \n",
    "    # get keys \n",
    "    file_ending_current_image = '_'.join(images[idx].split('/')[-1].split('_')[-4:])\n",
    "\n",
    "    #Extract datasets for each group\n",
    "    file_data = file.get(\"Image_rotation_and_shear\")\n",
    "    img = file_data.get(\"Rotated_and_sheared_images\")\n",
    "    \n",
    "    current_structure = '_'.join(images[idx].split('/')[-1].split('_')[:-4])\n",
    "    \n",
    "    img_shape = img.shape\n",
    "    \n",
    "    for rot in range(img_shape[-2])[::2]:\n",
    "        for shear in range(img_shape[-1])[::2]:\n",
    "\n",
    "            raw_images.append(img[:, :, rot, shear])\n",
    "            raw_labels.append(current_structure + '_rot_{}_shear_{}'.format(rot, shear))"
   ]
  },
  {
   "cell_type": "code",
   "execution_count": null,
   "id": "f916b555",
   "metadata": {},
   "outputs": [],
   "source": [
    "print('Consider subsect of {} images for addition of random noise'.format(len(raw_images)))"
   ]
  },
  {
   "cell_type": "markdown",
   "id": "cf9925d5",
   "metadata": {},
   "source": [
    "## Poisson noise"
   ]
  },
  {
   "cell_type": "code",
   "execution_count": null,
   "id": "30a05cf4",
   "metadata": {
    "ExecuteTime": {
     "end_time": "2023-02-18T17:19:14.764586Z",
     "start_time": "2023-02-18T17:19:12.999370Z"
    }
   },
   "outputs": [],
   "source": [
    "images_w_poisson = []\n",
    "labels_w_poisson = []\n",
    "iterations = 2 # iterations of applying random Poisson noise\n",
    "\n",
    "for img, current_structure in zip(raw_images, raw_labels):\n",
    "               \n",
    "    # NORMALIZE\n",
    "    current_image = cv2.normalize(img, None,\n",
    "                                  alpha=0, beta=1,\n",
    "                                  norm_type=cv2.NORM_MINMAX, dtype=cv2.CV_32F)\n",
    "\n",
    "    images_w_poisson.append(current_image)\n",
    "    labels_w_poisson.append(current_structure)\n",
    "\n",
    "    for it in range(iterations):\n",
    "        distorted_image = random_noise(current_image, mode='poisson')\n",
    "        images_w_poisson.append(distorted_image)\n",
    "        labels_w_poisson.append('{}_pois_it_{}'.format(current_structure, it))"
   ]
  },
  {
   "cell_type": "code",
   "execution_count": null,
   "id": "d3627d44",
   "metadata": {
    "ExecuteTime": {
     "end_time": "2023-02-18T17:19:14.769721Z",
     "start_time": "2023-02-18T17:19:14.766305Z"
    }
   },
   "outputs": [],
   "source": [
    "print('# Images after introducing Poisson noise = {}'.format(len(images_w_poisson)))"
   ]
  },
  {
   "cell_type": "markdown",
   "id": "f5bf68f9",
   "metadata": {},
   "source": [
    "# Add Blurring"
   ]
  },
  {
   "cell_type": "code",
   "execution_count": null,
   "id": "e43582f8",
   "metadata": {
    "ExecuteTime": {
     "end_time": "2023-02-18T17:19:19.001714Z",
     "start_time": "2023-02-18T17:19:17.979739Z"
    }
   },
   "outputs": [],
   "source": [
    "widths = [2, 4]\n",
    "images_w_poisson_w_gaussian = []\n",
    "labels_w_poisson_w_gaussian = []\n",
    "\n",
    "for current_image, current_label in zip(images_w_poisson, labels_w_poisson):\n",
    "\n",
    "    images_w_poisson_w_gaussian.append(current_image)\n",
    "    labels_w_poisson_w_gaussian.append(current_label)\n",
    "    \n",
    "    for width in widths:\n",
    "\n",
    "        distorted_image = gaussian_filter(current_image, sigma=width)\n",
    "\n",
    "        images_w_poisson_w_gaussian.append(distorted_image)\n",
    "        labels_w_poisson_w_gaussian.append(current_label + '_gwidth_' + str(width))"
   ]
  },
  {
   "cell_type": "code",
   "execution_count": null,
   "id": "8fe3d5b6",
   "metadata": {
    "ExecuteTime": {
     "end_time": "2023-02-18T17:19:19.005913Z",
     "start_time": "2023-02-18T17:19:19.003319Z"
    }
   },
   "outputs": [],
   "source": [
    "print('# Images after introducing Poisson and Blurring noise = {}'.format(len(images_w_poisson_w_gaussian)))"
   ]
  },
  {
   "cell_type": "markdown",
   "id": "44aaede0",
   "metadata": {},
   "source": [
    "# Add Gaussian noise"
   ]
  },
  {
   "cell_type": "code",
   "execution_count": null,
   "id": "8aab8ca3",
   "metadata": {
    "ExecuteTime": {
     "end_time": "2023-02-18T17:19:25.503224Z",
     "start_time": "2023-02-18T17:19:23.942274Z"
    }
   },
   "outputs": [],
   "source": [
    "var_list = [0.005, 0.01]\n",
    "images_w_poisson_w_gaussian_w_gnoise = []\n",
    "labels_w_poisson_w_gaussian_w_gnoise = []\n",
    "\n",
    "for current_image, current_label in zip(images_w_poisson_w_gaussian, labels_w_poisson_w_gaussian):\n",
    "    \n",
    "    if 'pois' in current_label or 'gwidth' in current_label:\n",
    "        # only keep distorted, not pristine or those with scan noise\n",
    "        images_w_poisson_w_gaussian_w_gnoise.append(current_image)\n",
    "        labels_w_poisson_w_gaussian_w_gnoise.append(current_label)\n",
    "        \n",
    "    if 'pois' in current_label:\n",
    "        # choose to not add gaussian noise AND poisson noise\n",
    "        continue\n",
    "    \n",
    "    for var in var_list:\n",
    "        distorted_image = random_noise(current_image, mode='gaussian', var=var)\n",
    "        \n",
    "        images_w_poisson_w_gaussian_w_gnoise.append(distorted_image)\n",
    "        labels_w_poisson_w_gaussian_w_gnoise.append(current_label + '_gnoisevar_' + str(var))"
   ]
  },
  {
   "cell_type": "code",
   "execution_count": null,
   "id": "a1f4a608",
   "metadata": {
    "ExecuteTime": {
     "end_time": "2023-02-18T17:19:25.524219Z",
     "start_time": "2023-02-18T17:19:25.513358Z"
    }
   },
   "outputs": [],
   "source": [
    "print('# Images after introducing Posson, Blurring, and Gaussian noise = {}'.format(len(labels_w_poisson_w_gaussian_w_gnoise)))"
   ]
  },
  {
   "cell_type": "markdown",
   "id": "cf9561e9",
   "metadata": {},
   "source": [
    "# Calculate FFT for distorted images"
   ]
  },
  {
   "cell_type": "code",
   "execution_count": null,
   "id": "ef34a8f1",
   "metadata": {
    "ExecuteTime": {
     "end_time": "2023-02-18T17:20:16.188188Z",
     "start_time": "2023-02-18T17:19:34.792925Z"
    }
   },
   "outputs": [],
   "source": [
    "ffts_distorted = []\n",
    "labels_distorted = []\n",
    "r_cut = None\n",
    "sigma = None\n",
    "thresholding = True\n",
    "\n",
    "for img, label in zip(images_w_poisson_w_gaussian_w_gnoise, \n",
    "                     labels_w_poisson_w_gaussian_w_gnoise):\n",
    "    \n",
    "    fft_desc = calc_fft(img, r_cut=r_cut,\n",
    "                    thresholding=thresholding,\n",
    "                    sigma=sigma)\n",
    "    \n",
    "    ffts_distorted.append(fft_desc)\n",
    "    labels_distorted.append(label)"
   ]
  },
  {
   "cell_type": "code",
   "execution_count": null,
   "id": "cd6216aa",
   "metadata": {
    "ExecuteTime": {
     "end_time": "2023-02-18T17:20:16.193636Z",
     "start_time": "2023-02-18T17:20:16.189909Z"
    }
   },
   "outputs": [],
   "source": [
    "print('Total # of HAADF-FFTs = {}'.format(len(ffts_distorted)))"
   ]
  },
  {
   "cell_type": "code",
   "execution_count": null,
   "id": "19506e95",
   "metadata": {
    "ExecuteTime": {
     "end_time": "2023-02-18T17:20:17.602312Z",
     "start_time": "2023-02-18T17:20:17.060718Z"
    }
   },
   "outputs": [],
   "source": [
    "# Save\n",
    "np.save(os.path.join(save_path, 'X_haadf_poisson_blurring_gaussian_noise.npy'), \n",
    "        np.asarray(images_w_poisson_w_gaussian_w_gnoise))\n",
    "\n",
    "np.save(os.path.join(save_path, 'X_fft_haadf_poisson_blurring_gaussian_noise.npy'),\n",
    "        np.asarray(ffts_distorted))\n",
    "\n",
    "np.save(os.path.join(save_path, 'y_poisson_blurring_gaussian_noise.npy'), \n",
    "        np.asarray(labels_distorted))"
   ]
  },
  {
   "cell_type": "code",
   "execution_count": null,
   "id": "2cdb9833",
   "metadata": {
    "ExecuteTime": {
     "end_time": "2023-02-18T17:20:19.040761Z",
     "start_time": "2023-02-18T17:20:19.026226Z"
    }
   },
   "outputs": [],
   "source": [
    "a = [_.split('_')[:3] for _ in labels_distorted]\n",
    "b = ['_'.join(_) for _ in a]\n",
    "converted_labels = [text_to_numerical_labels[_] for _ in b]\n",
    "\n",
    "# save int labels\n",
    "np.save(os.path.join(save_path, 'y_poisson_blurring_gaussian_noise_int.npy'), \n",
    "        np.asarray(converted_labels))"
   ]
  },
  {
   "cell_type": "code",
   "execution_count": null,
   "id": "3f7703ad",
   "metadata": {},
   "outputs": [],
   "source": []
  }
 ],
 "metadata": {
  "kernelspec": {
   "display_name": "Python 3 (ipykernel)",
   "language": "python",
   "name": "python3"
  },
  "language_info": {
   "codemirror_mode": {
    "name": "ipython",
    "version": 3
   },
   "file_extension": ".py",
   "mimetype": "text/x-python",
   "name": "python",
   "nbconvert_exporter": "python",
   "pygments_lexer": "ipython3",
   "version": "3.7.13"
  }
 },
 "nbformat": 4,
 "nbformat_minor": 5
}
