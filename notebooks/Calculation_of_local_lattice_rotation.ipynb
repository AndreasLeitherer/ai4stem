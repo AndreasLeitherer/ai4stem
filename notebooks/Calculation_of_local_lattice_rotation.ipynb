{
 "cells": [
  {
   "cell_type": "markdown",
   "id": "95597939",
   "metadata": {},
   "source": [
    "This notebook calculates the local lattice rotation, as described in Supplementary Note 1 of the AI-STEM manuscript (Leitherer et al., 2023)."
   ]
  },
  {
   "cell_type": "code",
   "execution_count": null,
   "id": "5d5eafc8",
   "metadata": {
    "ExecuteTime": {
     "end_time": "2023-02-14T17:30:26.705558Z",
     "start_time": "2023-02-14T17:30:26.700388Z"
    }
   },
   "outputs": [],
   "source": [
    "import os\n",
    "import h5py\n",
    "import matplotlib.pyplot as plt\n",
    "import numpy as np\n",
    "from collections import Counter\n",
    "import cv2\n",
    "from collections import defaultdict\n",
    "from copy import deepcopy\n",
    "from scipy import stats\n",
    "from scipy.signal import convolve2d\n",
    "\n",
    "# ASE\n",
    "import ase\n",
    "from ase import Atoms\n",
    "\n",
    "\n",
    "# For point set registration\n",
    "from pycpd import RigidRegistration\n",
    "\n",
    "# ai4stem utilities\n",
    "from ai4stem.utils.utils_data import get_data_filename, load_reference_lattices, load_class_dicts\n",
    "from ai4stem.utils.utils_prediction import localwindow\n",
    "from ai4stem.utils.utils_reconstruction import reconstruct_via_atomap, get_nn_distance, norm_window_lattice"
   ]
  },
  {
   "cell_type": "markdown",
   "id": "d6de3e03",
   "metadata": {},
   "source": [
    "# Define required input"
   ]
  },
  {
   "cell_type": "code",
   "execution_count": null,
   "id": "3ad7f211",
   "metadata": {
    "ExecuteTime": {
     "end_time": "2023-02-14T17:30:26.718132Z",
     "start_time": "2023-02-14T17:30:26.707203Z"
    }
   },
   "outputs": [],
   "source": [
    "# Please specify\n",
    "# 1. Savepath, \n",
    "# 2. Stride, \n",
    "# 3. pixel / angstrom relation \n",
    "# 4. Window size (in Angstrom, will be converted to pixels according to specified pixel/angstrom relation)\n",
    "# 5. image path\n",
    "# 6. paths to mutual information and predictions (AI-STEM predictions)\n",
    "# 7. savepath\n",
    "# Here, example data contained in the github repository is employed\n",
    "\n",
    "save_path = '.'\n",
    "stride_size = [6, 6]\n",
    "pixel_to_angstrom = 0.12452489444788318\n",
    "window_size_angstrom = 12.\n",
    "image_path = get_data_filename('data/experimental_images/Fe_bcc_100.npy') # consider Fe bcc as example\n",
    "mutual_information_path = get_data_filename('data/nn_predictions/Fe_bcc_100_mutual_information.npy')\n",
    "predictions_path = get_data_filename('data/nn_predictions/Fe_bcc_100_predictions.npy')\n",
    "save_path = '.'"
   ]
  },
  {
   "cell_type": "markdown",
   "id": "638db156",
   "metadata": {},
   "source": [
    "The following cells determine the window size (in pixels, adapted to the window size\n",
    "employed for a pretrained model) as well as the symmetry label assigned to the bulk regions."
   ]
  },
  {
   "cell_type": "code",
   "execution_count": null,
   "id": "b8d15d9a",
   "metadata": {},
   "outputs": [],
   "source": [
    "window_size = window_size_angstrom * (1. / pixel_to_angstrom)\n",
    "window_size = int(round(window_size))\n",
    "print('Window size [Angstrom] = {}, Window size [pixels] = {}'.format(window_size_angstrom,\n",
    "                                                                      window_size))"
   ]
  },
  {
   "cell_type": "code",
   "execution_count": null,
   "id": "20a94bf4",
   "metadata": {
    "ExecuteTime": {
     "end_time": "2023-02-14T17:30:26.732410Z",
     "start_time": "2023-02-14T17:30:26.719418Z"
    }
   },
   "outputs": [],
   "source": [
    "# load argmax predictions, take most popular assignment as symmtery\n",
    "# for which the reference training image is loaded\n",
    "# This is all defined for a pretrained model and needs to be adapted if retraining is applied\n",
    "\n",
    "# also load relation between classes and int labels\n",
    "numerical_to_text_labels, text_to_numerical_labels = load_class_dicts()\n",
    "\n",
    "argmax_predictions = np.argmax(np.load(predictions_path), axis=-1)\n",
    "assigned_label = numerical_to_text_label[stats.mode(argmax_predictions)[0][0]]\n",
    "print('Refernce training image: {}'.format(assigned_label))"
   ]
  },
  {
   "cell_type": "code",
   "execution_count": null,
   "id": "99596ba5",
   "metadata": {},
   "outputs": [],
   "source": [
    "# Load refernce dict used below for calculating local\n",
    "# lattice rotation\n",
    "reference_dict = load_reference_lattices()"
   ]
  },
  {
   "cell_type": "markdown",
   "id": "ef534cfe",
   "metadata": {},
   "source": [
    "# Load image, extract local windows, reconstruct atomic columns"
   ]
  },
  {
   "cell_type": "code",
   "execution_count": null,
   "id": "ae38e845",
   "metadata": {
    "ExecuteTime": {
     "end_time": "2023-02-14T17:30:47.934902Z",
     "start_time": "2023-02-14T17:30:26.765741Z"
    }
   },
   "outputs": [],
   "source": [
    "# Extract local windows\n",
    "print('Load image from path {}'.format(image_path))\n",
    "image = np.load(image_path)\n",
    "\n",
    "print('Extract local fragments.')\n",
    "sliced_images, spm_pos, ni, nj = localwindow(image, stride_size=stride_size, pixel_max=window_size)"
   ]
  },
  {
   "cell_type": "code",
   "execution_count": null,
   "id": "902a274a",
   "metadata": {
    "ExecuteTime": {
     "end_time": "2023-02-14T17:30:50.257789Z",
     "start_time": "2023-02-14T17:30:47.942889Z"
    },
    "scrolled": true
   },
   "outputs": [],
   "source": [
    "separation = 1. / pixel_to_angstrom\n",
    "print(separation)\n",
    "\n",
    "atomic_columns = reconstruct_via_atomap(image, separation=int(separation / 2.), refine=False)"
   ]
  },
  {
   "cell_type": "code",
   "execution_count": null,
   "id": "efaba830",
   "metadata": {
    "ExecuteTime": {
     "end_time": "2023-02-14T17:30:50.847848Z",
     "start_time": "2023-02-14T17:30:50.260200Z"
    },
    "scrolled": true
   },
   "outputs": [],
   "source": [
    "fig, axs = plt.subplots(figsize=(15, 15))\n",
    "plt.imshow(image)\n",
    "plt.scatter(atomic_columns[:, 0], atomic_columns[:, 1], s=4, c='r')\n",
    "plt.show()"
   ]
  },
  {
   "cell_type": "code",
   "execution_count": null,
   "id": "77ac00e0",
   "metadata": {
    "ExecuteTime": {
     "end_time": "2023-02-14T17:30:53.625709Z",
     "start_time": "2023-02-14T17:30:50.849401Z"
    }
   },
   "outputs": [],
   "source": [
    "# Extract atomic colums for each local window (local window calculated earlier from image)\n",
    "\n",
    "\n",
    "start = [window_size, window_size]\n",
    "element_agnostic = False\n",
    "coordinate_vectors = atomic_columns\n",
    "element_symbols = np.array(['Ti' for _ in range(len(atomic_columns[:, 0]))], dtype=object)\n",
    "\n",
    "number_of_strides_vector = [ni, nj]\n",
    "\n",
    "x_sliding_volume_edge_length = window_size\n",
    "y_sliding_volume_edge_length = window_size\n",
    "step_size_x = stride_size[0]\n",
    "step_size_y = stride_size[1]\n",
    "x_min = 0\n",
    "y_min = 0\n",
    "\n",
    "all_boxes = []\n",
    "all_stride_idx = []\n",
    "\n",
    "list_of_xy_boxes = []\n",
    "number_of_atoms_xy = []\n",
    "\n",
    "for i in range(number_of_strides_vector[1]):\n",
    "\n",
    "    list_of_x_boxes = []\n",
    "    number_of_atoms_x = []\n",
    "\n",
    "    for j in range(number_of_strides_vector[0]):\n",
    "\n",
    "        # Determine atoms within sliding box\n",
    "        positionvectors_within_sliding_volume = []\n",
    "        element_names_within_sliding_volume = ''\n",
    "\n",
    "\n",
    "        condition = (coordinate_vectors[:,0] <= start[0]) & (coordinate_vectors[:,1] <= start[1]) \\\n",
    "                    & (coordinate_vectors[:,0] >= (start[0]-x_sliding_volume_edge_length)) \\\n",
    "                    & (coordinate_vectors[:,1] >= (start[1]-y_sliding_volume_edge_length))\n",
    "        positionvectors_within_sliding_volume = coordinate_vectors[condition]\n",
    "        element_names_within_sliding_volume = element_symbols[condition]\n",
    "        element_names_within_sliding_volume = ''.join(list(element_names_within_sliding_volume))\n",
    "        \n",
    "        positionvectors_within_sliding_volume = np.array([[_[0], \n",
    "                                                           _[1],\n",
    "                                                          0.0] for _ in positionvectors_within_sliding_volume])\n",
    "\n",
    "        if len(positionvectors_within_sliding_volume) == 0:\n",
    "            number_of_atoms_x.append(0)\n",
    "\n",
    "            element_name = element_names_within_sliding_volume  # should be ''\n",
    "            # create ase Atoms object Atoms(symbols='',pbc=False)\n",
    "            atoms_within_sliding_volume = ase.Atoms(element_name)\n",
    "            # Optional: assign label\n",
    "            # atoms_within_sliding_volume.info['label']='box_label_'+str(i)+str(j)+str(k)\n",
    "            atoms_within_sliding_volume.set_pbc(False) # added for safety\n",
    "            list_of_x_boxes.append(atoms_within_sliding_volume)\n",
    "\n",
    "        else:\n",
    "            number_of_atoms_x.append(len(positionvectors_within_sliding_volume))\n",
    "\n",
    "            if element_agnostic:\n",
    "                element_name = 'Fe'+str(len(positionvectors_within_sliding_volume))\n",
    "            else:\n",
    "                element_name = element_names_within_sliding_volume\n",
    "            atoms_within_sliding_volume = ase.Atoms(element_name, positionvectors_within_sliding_volume)\n",
    "            # Optional: assign label\n",
    "            # atoms_within_sliding_volume.info['label']='box_label_'+str(i)+str(j)+str(k)\n",
    "            atoms_within_sliding_volume.set_pbc(False) # added for safety\n",
    "            list_of_x_boxes.append(atoms_within_sliding_volume)\n",
    "        all_boxes.append([[_[0], _[1]] for _ in positionvectors_within_sliding_volume])\n",
    "        all_stride_idx.append([j, i])\n",
    "\n",
    "        start[0] += step_size_x\n",
    "\n",
    "    number_of_atoms_xy.append(number_of_atoms_x)\n",
    "    list_of_xy_boxes.append(list_of_x_boxes)\n",
    "    start[0] = x_min+x_sliding_volume_edge_length  # Reset x_value after most inner for loop finished\n",
    "    start[1] += step_size_y  # next y"
   ]
  },
  {
   "cell_type": "code",
   "execution_count": null,
   "id": "78ae9257",
   "metadata": {
    "ExecuteTime": {
     "end_time": "2023-02-14T17:30:55.136400Z",
     "start_time": "2023-02-14T17:30:53.626696Z"
    }
   },
   "outputs": [],
   "source": [
    "# Visualize some of the local windows\n",
    "for idx in range(len(sliced_images))[::500]:\n",
    "    img = sliced_images[idx]\n",
    "    pos = all_boxes[idx]\n",
    "    pos = np.array(pos)\n",
    "    pos[:, 0] -= all_stride_idx[idx][0] * stride_size[0]\n",
    "    pos[:, 1] -= all_stride_idx[idx][1] * stride_size[1]\n",
    "                 \n",
    "    fig, axs = plt.subplots()\n",
    "    axs.imshow(img)\n",
    "    if not len(pos) == 0:\n",
    "        pos = np.array(pos)\n",
    "        axs.scatter(pos[:, 0], pos[:, 1], c='r')"
   ]
  },
  {
   "cell_type": "markdown",
   "id": "fbf2c99c",
   "metadata": {},
   "source": [
    "# Given predicted symmetry, define reference lattice"
   ]
  },
  {
   "cell_type": "code",
   "execution_count": null,
   "id": "425bfd27",
   "metadata": {},
   "outputs": [],
   "source": [
    "reference_pixeltoangstrom = 0.12 # this fixed by the simulation"
   ]
  },
  {
   "cell_type": "code",
   "execution_count": null,
   "id": "82491d06",
   "metadata": {},
   "outputs": [],
   "source": [
    "# Show all reference dicts\n",
    "for key in reference_dict:\n",
    "    fig, axs = plt.subplots()\n",
    "    axs.imshow(reference_dict[key], cmap='gray')\n",
    "    axs.set_title(key)"
   ]
  },
  {
   "cell_type": "markdown",
   "id": "6bcda445",
   "metadata": {},
   "source": [
    "Load training image for currently assigned label"
   ]
  },
  {
   "cell_type": "code",
   "execution_count": null,
   "id": "61d5ca7e",
   "metadata": {},
   "outputs": [],
   "source": [
    "tr_img = reference_dict[assigned_label]\n",
    "print('Reference image selected for current input: {}'.format(assigned_label))\n",
    "plt.imshow(tr_img, cmap='gray')\n",
    "plt.show()"
   ]
  },
  {
   "cell_type": "code",
   "execution_count": null,
   "id": "c67a97ba",
   "metadata": {
    "ExecuteTime": {
     "end_time": "2023-02-14T17:31:06.621227Z",
     "start_time": "2023-02-14T17:30:55.323797Z"
    }
   },
   "outputs": [],
   "source": [
    "# Reconstruct real-space lattice\n",
    "\n",
    "ref_separation = int( (1. / reference_pixeltoangstrom) / 2. )\n",
    "print('Separation employed for reference image = {}'.format(ref_separation))\n",
    "\n",
    "\n",
    "atom_positions = reconstruct_via_atomap(tr_img,\n",
    "                                        separation=ref_separation,\n",
    "                                        refine=False)\n",
    "fig, axs = plt.subplots(figsize=(10,10))\n",
    "axs.set_aspect('equal')\n",
    "plt.scatter(atom_positions[:, 0], atom_positions[:, 1], s=3)"
   ]
  },
  {
   "cell_type": "code",
   "execution_count": null,
   "id": "3ad23463",
   "metadata": {},
   "outputs": [],
   "source": [
    "window_size * pixel_to_angstrom"
   ]
  },
  {
   "cell_type": "code",
   "execution_count": null,
   "id": "2af5d990",
   "metadata": {
    "ExecuteTime": {
     "end_time": "2023-02-14T17:31:06.642143Z",
     "start_time": "2023-02-14T17:31:06.630003Z"
    }
   },
   "outputs": [],
   "source": [
    "# Given input window size, extract same window size from training image.\n",
    "# Assume adjusted window size -> need to adjust window used for mask!\n",
    "\n",
    "# 1. convert given window size into angstrom\n",
    "window_input_angstrom = float(window_size) * pixel_to_angstrom\n",
    "window_reference = window_input_angstrom * ( 1. / float(reference_pixeltoangstrom))\n",
    "print(round(window_reference))"
   ]
  },
  {
   "cell_type": "code",
   "execution_count": null,
   "id": "73d7d061",
   "metadata": {
    "ExecuteTime": {
     "end_time": "2023-02-14T17:31:06.741591Z",
     "start_time": "2023-02-14T17:31:06.643855Z"
    }
   },
   "outputs": [],
   "source": [
    "# Extract segment from center of reference image, \n",
    "center = np.mean(atom_positions, axis=0)\n",
    "\n",
    "mask_x = (atom_positions[:, 0] >= (center[0] - float(window_reference) / 2.)) & \\\n",
    "         (atom_positions[:, 0] <= (center[0] + float(window_reference) / 2.))\n",
    "mask_y = (atom_positions[:, 1] >= (center[1] - float(window_reference) / 2.)) & \\\n",
    "         (atom_positions[:, 1] <= (center[1] + float(window_reference) / 2.))\n",
    "    \n",
    "mask = mask_x & mask_y\n",
    "filtered_columns = atom_positions[mask]\n",
    "fig, axs = plt.subplots()\n",
    "axs.set_aspect('equal')\n",
    "plt.scatter(filtered_columns[:, 0], filtered_columns[:, 1], s=1)\n",
    "plt.show()"
   ]
  },
  {
   "cell_type": "code",
   "execution_count": null,
   "id": "c37b4b7f",
   "metadata": {
    "ExecuteTime": {
     "end_time": "2023-02-14T17:31:06.862050Z",
     "start_time": "2023-02-14T17:31:06.761127Z"
    }
   },
   "outputs": [],
   "source": [
    "# Normalize extracted reference lattice and then extract small local\n",
    "# region (not more than 20 atoms, i.e., few neareast neighbors)\n",
    "\n",
    "reference_lattice = deepcopy(filtered_columns)\n",
    "# Shift to origin\n",
    "x_shift = np.mean(reference_lattice[:,0])\n",
    "y_shift = np.mean(reference_lattice[:,1])\n",
    "\n",
    "dist = np.zeros((reference_lattice.shape[0],1))\n",
    "for p in range(reference_lattice.shape[0]):\n",
    "    dist[p] = np.sqrt( (reference_lattice[p,0]-x_shift)**2 + (reference_lattice[p,1]-y_shift)**2 )\n",
    "\n",
    "reference_lattice_cent = reference_lattice[np.argmin(dist)]\n",
    "\n",
    "reference_lattice[:,0] = reference_lattice[:,0] - reference_lattice_cent[0]\n",
    "reference_lattice[:,1] = reference_lattice[:,1] - reference_lattice_cent[1]\n",
    "\n",
    "# Delete atoms until have only few nearest neighbors (20)\n",
    "radius = float(window_reference) / 2.\n",
    "reference_lattice_tmp = deepcopy(reference_lattice)\n",
    "Nat = 20\n",
    "delta = (1. / pixel_to_angstrom) / 8.\n",
    "while len(reference_lattice_tmp) >= Nat:\n",
    "    del_peaks = np.sqrt(reference_lattice_tmp[:,0]**2 + reference_lattice_tmp[:,1]**2) < radius\n",
    "    reference_lattice_tmp = reference_lattice_tmp[del_peaks == True]\n",
    "    radius -= delta\n",
    "reference_lattice = reference_lattice_tmp    \n",
    "\n",
    "fig, axs = plt.subplots()\n",
    "axs.set_aspect('equal')\n",
    "plt.scatter(reference_lattice[:, 0], reference_lattice[:, 1], s=1)\n",
    "\n",
    "plt.show()"
   ]
  },
  {
   "cell_type": "code",
   "execution_count": null,
   "id": "2e8156a3",
   "metadata": {
    "ExecuteTime": {
     "end_time": "2023-02-14T17:31:06.923716Z",
     "start_time": "2023-02-14T17:31:06.910793Z"
    }
   },
   "outputs": [],
   "source": [
    "# Define criterion according to which the local rotation angle is calculated\n",
    "# Reason: algorithm performs clock- or counter-clockwise rotation. \n",
    "# Thus need to adjust.\n",
    "\n",
    "\n",
    "# All rotation symmetries\n",
    "rotations_dict = {\"BCC_Fe_100\": 90.,\n",
    "                  \"BCC_Fe_110\": 180., \n",
    "                  \"BCC_Fe_111\": 60., \n",
    "                  \"FCC_Cu_100\": 90., \n",
    "                  \"FCC_Cu_110\": 60., \n",
    "                  \"FCC_Cu_111\": 60., \n",
    "                  \"FCC_Cu_211\": 180., \n",
    "                  \"HCP_Ti_0001\": 60., \n",
    "                  \"HCP_Ti_10m10\": 180., \n",
    "                  \"HCP_Ti_2m1m10\": 60.}\n",
    "\n",
    "\n",
    "def criterion(assigned_label, mismatch_angle):\n",
    "    mismatch_angle = np.abs(mismatch_angle)\n",
    "    \n",
    "    symmetry_angle = rotations_dict[assigned_label]\n",
    "    max_angle = symmetry_angle / 2.\n",
    "    # eg for Ti, rot sym angle is 60., max angle is 30: If calculated\n",
    "    # mismatch angle is larger than 30., simply subtract 60. - in\n",
    "    # this way the caculated mismatch angle is the smallest angle \n",
    "    # to match reference lattice and local window columns\n",
    "    \n",
    "    if mismatch_angle >= max_angle:\n",
    "        mismatch_angle -= symmetry_angle\n",
    "        mismatch_angle = np.abs(mismatch_angle)\n",
    "    return mismatch_angle\n",
    "        \n",
    "    "
   ]
  },
  {
   "cell_type": "code",
   "execution_count": null,
   "id": "3e015d62",
   "metadata": {
    "ExecuteTime": {
     "end_time": "2023-02-14T17:31:06.971763Z",
     "start_time": "2023-02-14T17:31:06.957725Z"
    }
   },
   "outputs": [],
   "source": [
    "def scale_lattice(lattice, window_size):\n",
    "    \"\"\"\n",
    "    Scale given (reconstructed) lattice, employing cutoff that \n",
    "    corresponds to window_size.\n",
    "    \"\"\"\n",
    "    atoms = Atoms(np.full(len(lattice), 'Fe'), \n",
    "                  positions=[[_[0], _[1], 0.0] for _ in lattice])\n",
    "    \n",
    "    nn_distance = get_nn_distance(atoms, cutoff=window_size)\n",
    "    \n",
    "    return np.array(lattice) / nn_distance\n",
    "    "
   ]
  },
  {
   "cell_type": "code",
   "execution_count": null,
   "id": "573490bb",
   "metadata": {
    "ExecuteTime": {
     "end_time": "2023-02-14T17:31:07.003890Z",
     "start_time": "2023-02-14T17:31:06.986316Z"
    }
   },
   "outputs": [],
   "source": [
    "reference_lattice_scaled = scale_lattice(reference_lattice,\n",
    "                                         window_reference)"
   ]
  },
  {
   "cell_type": "markdown",
   "id": "df9e3143",
   "metadata": {},
   "source": [
    "# Calculate mismatch angles"
   ]
  },
  {
   "cell_type": "code",
   "execution_count": null,
   "id": "f07560f3",
   "metadata": {
    "ExecuteTime": {
     "end_time": "2023-02-14T17:32:31.896019Z",
     "start_time": "2023-02-14T17:31:07.022827Z"
    }
   },
   "outputs": [],
   "source": [
    "mismatch_angles = []\n",
    "\n",
    "input_lattice = []\n",
    "transformed_reflattice = []\n",
    "regs = []\n",
    "\n",
    "for idx, pos in enumerate(all_boxes):\n",
    "\n",
    "    if idx % 1000 == 0:\n",
    "        print('Process box {} / {}'.format(idx, len(all_boxes)))\n",
    "        \n",
    "    # X: target, Y: source\n",
    "    Y = reference_lattice_scaled \n",
    "    \n",
    "    X = norm_window_lattice(pos, reference_lattice,\n",
    "                            window_size, pixel_to_angstrom) \n",
    "    X = scale_lattice(X, window_size)\n",
    "    \n",
    "    # AffineRegistration\n",
    "    reg = RigidRegistration(**{'X': X, 'Y': Y, 'max_iterations': 100})\n",
    "    reg.register()\n",
    "\n",
    "    mismatch_angle = (-1) * np.arcsin(reg.get_registration_parameters()[1][0][1]) * 180 / np.pi\n",
    "\n",
    "    mismatch_angle = criterion(assigned_label, mismatch_angle)\n",
    "    mismatch_angles.append(mismatch_angle)\n",
    "    \n",
    "    transformed_reflattice.append(reg.transform_point_cloud(Y))\n",
    "    regs.append(reg)\n",
    "    input_lattice.append(X)"
   ]
  },
  {
   "cell_type": "code",
   "execution_count": null,
   "id": "2854ecc5",
   "metadata": {
    "ExecuteTime": {
     "end_time": "2023-02-14T17:32:31.904463Z",
     "start_time": "2023-02-14T17:32:31.897538Z"
    }
   },
   "outputs": [],
   "source": [
    "# statistics of calculated mismatch angles\n",
    "print('Min: {}, Max: {}, 5% quantile: {}, 95% quantile: {}'.format(np.min(mismatch_angles),\n",
    "                                                                   np.max(mismatch_angles),\n",
    "                                                                   np.quantile(mismatch_angles, 0.05),\n",
    "                                                                   np.quantile(mismatch_angles, 0.95)))\n",
    "\n",
    "vmin = np.quantile(mismatch_angles, 0.05)\n",
    "vmax = np.quantile(mismatch_angles, 0.95)"
   ]
  },
  {
   "cell_type": "code",
   "execution_count": null,
   "id": "c91a82ba",
   "metadata": {
    "ExecuteTime": {
     "end_time": "2023-02-14T17:32:32.395630Z",
     "start_time": "2023-02-14T17:32:31.905547Z"
    },
    "scrolled": true
   },
   "outputs": [],
   "source": [
    "cmap = 'plasma'\n",
    "fig, axs = plt.subplots(figsize=(15, 15))\n",
    "plt.imshow(np.reshape(mismatch_angles, (ni, nj)), \n",
    "           vmin=vmin, vmax=vmax, cmap=cmap)\n",
    "plt.colorbar()"
   ]
  },
  {
   "cell_type": "markdown",
   "id": "05bcd059",
   "metadata": {
    "ExecuteTime": {
     "end_time": "2023-01-30T13:16:17.318149Z",
     "start_time": "2023-01-30T13:16:17.298100Z"
    }
   },
   "source": [
    "# Apply smoothing"
   ]
  },
  {
   "cell_type": "code",
   "execution_count": null,
   "id": "aca2d056",
   "metadata": {},
   "outputs": [],
   "source": [
    "mutinfo.shape"
   ]
  },
  {
   "cell_type": "code",
   "execution_count": null,
   "id": "f66b0752",
   "metadata": {},
   "outputs": [],
   "source": [
    "16 *12"
   ]
  },
  {
   "cell_type": "code",
   "execution_count": null,
   "id": "5b9d12ba",
   "metadata": {
    "ExecuteTime": {
     "end_time": "2023-02-14T17:32:32.988506Z",
     "start_time": "2023-02-14T17:32:32.396925Z"
    }
   },
   "outputs": [],
   "source": [
    "# Average over neighboring strides:\n",
    "nber_nn = [16, 20]\n",
    "# above value of 16 has been employed for \n",
    "# AI-STEM manuscript results (corresponds to averaging over areas of 10-20 Angstrom, depending on stride) \n",
    "# larger range of values: [1, 2, 4, 8, 16]\n",
    "\n",
    "\n",
    "data = np.reshape(mismatch_angles, (ni, nj))\n",
    "# save results in dictionary\n",
    "results = {}\n",
    "\n",
    "# plot (and optionally save results below)\n",
    "fig, ax = plt.subplots(1, len(nber_nn), facecolor='white', figsize=(25, 5))\n",
    "for idx, n in enumerate(nber_nn):\n",
    "    kernel = np.ones((n, n))\n",
    "    \n",
    "    # ignore parts of image where mutual information is above threshold (here: 0.1)\n",
    "    mutinfo = np.load(mutual_information_path).flatten()\n",
    "    mask = mutinfo < 0.1\n",
    "    data_filtered = data.flatten()\n",
    "    data_filtered[~mask] = 0.0\n",
    "    data_filtered = np.reshape(data_filtered, (ni, nj))\n",
    "    \n",
    "    # apply smoothing\n",
    "    smoothed_data = convolve2d(data_filtered, kernel, boundary='symm', mode='same') / float(n * n)\n",
    "    \n",
    "    # for visaulization only, focus on quantile values, to mitigate extreme values\n",
    "    vmin = np.quantile(smoothed_data.flatten()[mask], 0.05)\n",
    "    vmax = np.quantile(smoothed_data.flatten()[mask], 0.95)\n",
    "    \n",
    "    axs = ax[idx]\n",
    "    \n",
    "    smoothed_data = smoothed_data.flatten()\n",
    "    smoothed_data[~mask] = np.nan\n",
    "    cmap = plt.get_cmap('plasma')\n",
    "    cmap.set_bad('gray')\n",
    "    smoothed_data = np.reshape(smoothed_data, (ni, nj))\n",
    "    \n",
    "    im = axs.imshow(smoothed_data, vmin=vmin, vmax=vmax, cmap=cmap)\n",
    "    axs.set_title('NN = {}'.format(n))\n",
    "    fig.colorbar(im, ax=axs)\n",
    "    results[n] = smoothed_data\n",
    "    \n",
    "    # uncomment to save\n",
    "    #np.save(os.path.join(save_path, '{}_mismatch_w_smoothing_nn_{}.npy'.format(assigned_label, n)),\n",
    "    #        smoothed_data)\n",
    "# uncomment to save\n",
    "#plt.savefig(os.path.join(save_path, '{}_mismatch_w_smoothing.svg'.format(assigned_label)))\n",
    "#plt.close()"
   ]
  },
  {
   "cell_type": "markdown",
   "id": "5431afbe",
   "metadata": {},
   "source": [
    "# Visulize, exemplarily, local lattice reconstructions with fit"
   ]
  },
  {
   "cell_type": "code",
   "execution_count": null,
   "id": "e95e0622",
   "metadata": {
    "ExecuteTime": {
     "end_time": "2023-02-14T17:32:35.337196Z",
     "start_time": "2023-02-14T17:32:32.989774Z"
    }
   },
   "outputs": [],
   "source": [
    "for idx in range(len(sliced_images))[510:520]:\n",
    "    img = sliced_images[idx]\n",
    "    pos = all_boxes[idx]\n",
    "    pos = np.array(pos)\n",
    "    pos[:, 0] -= all_stride_idx[idx][0] * stride_size[0]\n",
    "    pos[:, 1] -= all_stride_idx[idx][1] * stride_size[1]\n",
    "    \n",
    "    mismatch_angle = mismatch_angles[idx]\n",
    "\n",
    "    ref_lattice = transformed_reflattice[idx]\n",
    "    in_lattice = np.array(input_lattice[idx])\n",
    "    \n",
    "    fig, axs = plt.subplots(1, 2, figsize=(10, 10))\n",
    "    axs[0].imshow(img)\n",
    "    if not len(pos) == 0:\n",
    "        pos = np.array(pos)\n",
    "        axs[0].scatter(pos[:, 0], pos[:, 1], c='r')\n",
    "        axs[0].set_title('Pos {}, Mismatch angle = {},\\n delta Nat = {}'.format(spm_pos[idx],\n",
    "                                                                           mismatch_angle,\n",
    "                                                                           (len(in_lattice) - len(ref_lattice))))\n",
    "        \n",
    "        axs[1].scatter(in_lattice[:, 0], in_lattice[:, 1], marker='o', s=35, label='Reconstructed columns')\n",
    "        axs[1].scatter(ref_lattice[:, 0], ref_lattice[:, 1], marker='x', s =35, label='Fit')\n",
    "        axs[1].legend()\n",
    "        \n",
    "        axs[0].set_aspect('equal')\n",
    "        axs[1].set_aspect('equal')"
   ]
  },
  {
   "cell_type": "code",
   "execution_count": null,
   "id": "dcb9aad5",
   "metadata": {},
   "outputs": [],
   "source": []
  }
 ],
 "metadata": {
  "kernelspec": {
   "display_name": "Python 3 (ipykernel)",
   "language": "python",
   "name": "python3"
  },
  "language_info": {
   "codemirror_mode": {
    "name": "ipython",
    "version": 3
   },
   "file_extension": ".py",
   "mimetype": "text/x-python",
   "name": "python",
   "nbconvert_exporter": "python",
   "pygments_lexer": "ipython3",
   "version": "3.7.13"
  }
 },
 "nbformat": 4,
 "nbformat_minor": 5
}
