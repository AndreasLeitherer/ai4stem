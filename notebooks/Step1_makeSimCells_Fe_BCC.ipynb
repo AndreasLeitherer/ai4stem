{
 "cells": [
  {
   "cell_type": "markdown",
   "id": "1367fbce",
   "metadata": {},
   "source": [
    "# Load libraries"
   ]
  },
  {
   "cell_type": "code",
   "execution_count": null,
   "id": "c0867f55",
   "metadata": {},
   "outputs": [],
   "source": [
    "import numpy as np\n",
    "import ase\n",
    "from ase.visualize import view"
   ]
  },
  {
   "cell_type": "markdown",
   "id": "aed81e46",
   "metadata": {},
   "source": [
    "# Make new cells with ASE"
   ]
  },
  {
   "cell_type": "markdown",
   "id": "01e20e4d",
   "metadata": {},
   "source": [
    "### Define lattice parameter range"
   ]
  },
  {
   "cell_type": "code",
   "execution_count": null,
   "id": "29813b24",
   "metadata": {},
   "outputs": [],
   "source": [
    "latPar = np.arange(2.37, 3.37, 0.1).round(2).tolist()"
   ]
  },
  {
   "cell_type": "markdown",
   "id": "7ff6e33e",
   "metadata": {},
   "source": [
    "### Loop through lattice parameter range and generate simulation cells"
   ]
  },
  {
   "cell_type": "code",
   "execution_count": null,
   "id": "8cc5629c",
   "metadata": {},
   "outputs": [],
   "source": [
    "from ase.lattice.cubic import BodyCenteredCubic\n",
    "from ase.io import write\n",
    "\n",
    "folder = '/Users/c.liebscher/Documents/PycharmProjects/ImageSimulations/2022/AI-STEM_TrainingData/simulationCells/BCC-Fe/convolution_new/'\n",
    "\n",
    "# Define cell dimension in Angstrom [x,y,z], where z is the beam direction. All cells will be scaled according to input.\n",
    "cell_dim = [40,40,80]\n",
    "\n",
    "for a0 in latPar:\n",
    "    # 100 orientation\n",
    "    atoms_100 = BodyCenteredCubic(directions=[[0,1,-1],[0,1,1],[1,0,0]], \\\n",
    "                        size=(1,1,1), symbol='Fe', pbc=(1,1,1), latticeconstant=a0)\n",
    "    ## Determine simulation cell scaling and scale cell\n",
    "    a = atoms_100.get_cell()[0][0]\n",
    "    b = atoms_100.get_cell()[1][1]\n",
    "    c = atoms_100.get_cell()[2][2]\n",
    "    size_new = (int(np.round(cell_dim[0]/a)), int(np.round(cell_dim[1]/b)), int(np.round(cell_dim[2]/c))) \n",
    "    atoms_100 = BodyCenteredCubic(directions=[[0,1,-1],[0,1,1],[1,0,0]], \\\n",
    "                        size=size_new,  symbol='Fe', pbc=(1,1,1), latticeconstant=a0)\n",
    "    ## Write to file\n",
    "    filename = 'BCC_Fe_100_LatPar_' + str(a0) + 'A' + '.vasp'\n",
    "    write(folder + filename, atoms_100, format=\"vasp\")\n",
    "    \n",
    "    # 110 orientation\n",
    "    atoms_110 = BodyCenteredCubic(directions=[[0,0,1],[1,-1,0],[1,1,0]], \\\n",
    "                        size=(1,1,1), symbol='Fe', pbc=(1,1,1), latticeconstant=a0)\n",
    "    ## Determine simulation cell scaling and scale cell\n",
    "    a = atoms_110.get_cell()[0][0]\n",
    "    b = atoms_110.get_cell()[1][1]\n",
    "    c = atoms_110.get_cell()[2][2]\n",
    "    size_new = (int(np.round(cell_dim[0]/a)), int(np.round(cell_dim[1]/b)), int(np.round(cell_dim[2]/c)))\n",
    "    atoms_110 = BodyCenteredCubic(directions=[[0,0,1],[1,-1,0],[1,1,0]], \\\n",
    "                        size=size_new, symbol='Fe', pbc=(1,1,1), latticeconstant=a0)\n",
    "    ## Write to file\n",
    "    filename = 'BCC_Fe_110_LatPar_' + str(a0) + 'A' + '.vasp'\n",
    "    write(folder + filename, atoms_110, format=\"vasp\")\n",
    "    \n",
    "    # 111 orientation\n",
    "    atoms_111 = BodyCenteredCubic(directions=[[1,-1,0],[1,1,-2],[1,1,1]], \\\n",
    "                        size=(1,1,1), symbol='Fe', pbc=(1,1,1), latticeconstant=a0)\n",
    "    ## Determine simulation cell scaling and scale cell\n",
    "    a = atoms_111.get_cell()[0][0]\n",
    "    b = atoms_111.get_cell()[1][1]\n",
    "    c = atoms_111.get_cell()[2][2]\n",
    "    size_new = (int(np.round(cell_dim[0]/a)), int(np.round(cell_dim[1]/b)), int(np.round(cell_dim[2]/c)))\n",
    "    atoms_111 = BodyCenteredCubic(directions=[[1,-1,0],[1,1,-2],[1,1,1]], \\\n",
    "                        size=size_new, symbol='Fe', pbc=(1,1,1), latticeconstant=a0)\n",
    "    ## Write to file\n",
    "    filename = 'BCC_Fe_111_LatPar_' + str(a0) + 'A' + '.vasp'\n",
    "    write(folder + filename, atoms_111, format=\"vasp\")\n",
    "    \n",
    "    # 211 orientation\n",
    "    atoms_211 = BodyCenteredCubic(directions=[[0,1,-1],[-1,1,1],[2,1,1]], \\\n",
    "                        size=(1,1,1), symbol='Fe', pbc=(1,1,1), latticeconstant=a0)\n",
    "    ## Determine simulation cell scaling and scale cell\n",
    "    a = atoms_211.get_cell()[0][0]\n",
    "    b = atoms_211.get_cell()[1][1]\n",
    "    c = atoms_211.get_cell()[2][2]\n",
    "    size_new = (int(np.round(cell_dim[0]/a)), int(np.round(cell_dim[1]/b)), int(np.round(cell_dim[2]/c)))\n",
    "    atoms_211 = BodyCenteredCubic(directions=[[0,1,-1],[-1,1,1],[2,1,1]], \\\n",
    "                        size=size_new, symbol='Fe', pbc=(1,1,1), latticeconstant=a0)\n",
    "    filename = 'BCC_Fe_211_LatPar__' + str(a0) + 'A' + '.vasp'\n",
    "    write(folder + filename, atoms_211, format=\"vasp\")"
   ]
  },
  {
   "cell_type": "code",
   "execution_count": null,
   "id": "b01eb7a2",
   "metadata": {},
   "outputs": [],
   "source": []
  }
 ],
 "metadata": {
  "kernelspec": {
   "display_name": "Python 3 (ipykernel)",
   "language": "python",
   "name": "python3"
  },
  "language_info": {
   "codemirror_mode": {
    "name": "ipython",
    "version": 3
   },
   "file_extension": ".py",
   "mimetype": "text/x-python",
   "name": "python",
   "nbconvert_exporter": "python",
   "pygments_lexer": "ipython3",
   "version": "3.7.11"
  }
 },
 "nbformat": 4,
 "nbformat_minor": 5
}
