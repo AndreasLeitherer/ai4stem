{
 "cells": [
  {
   "cell_type": "markdown",
   "id": "1367fbce",
   "metadata": {},
   "source": [
    "# Load libraries"
   ]
  },
  {
   "cell_type": "code",
   "execution_count": null,
   "id": "c0867f55",
   "metadata": {
    "ExecuteTime": {
     "end_time": "2023-02-18T16:40:03.952040Z",
     "start_time": "2023-02-18T16:40:01.628552Z"
    }
   },
   "outputs": [],
   "source": [
    "import os\n",
    "import numpy as np\n",
    "import ase\n",
    "from ase.visualize import view\n",
    "from abtem.visualize import show_atoms\n",
    "import abtem\n",
    "from abtem.potentials import Potential\n",
    "import hyperspy.api as hs\n",
    "import scipy\n",
    "import matplotlib.pyplot as plt\n",
    "from collections import defaultdict\n",
    "from scipy.signal import get_window\n",
    "import cv2\n",
    "from scipy import ndimage"
   ]
  },
  {
   "cell_type": "markdown",
   "id": "c7d5c05c",
   "metadata": {},
   "source": [
    "# Change default figure size"
   ]
  },
  {
   "cell_type": "code",
   "execution_count": null,
   "id": "e04f6ebd",
   "metadata": {
    "ExecuteTime": {
     "end_time": "2023-02-18T16:40:03.960388Z",
     "start_time": "2023-02-18T16:40:03.954821Z"
    }
   },
   "outputs": [],
   "source": [
    "plt.rcParams['figure.figsize'] = [12, 8]"
   ]
  },
  {
   "cell_type": "markdown",
   "id": "7ff6e33e",
   "metadata": {},
   "source": [
    "# Loop through simulation cells and simulate STEM images"
   ]
  },
  {
   "cell_type": "code",
   "execution_count": null,
   "id": "58b31978",
   "metadata": {
    "ExecuteTime": {
     "end_time": "2023-02-18T16:41:00.250764Z",
     "start_time": "2023-02-18T16:41:00.244985Z"
    }
   },
   "outputs": [],
   "source": [
    "folder_path = './' # specifiy folder where geometry files are located\n",
    "cells = [os.path.join(folder_path, _) for _ in os.listdir(folder_path) if _.endswith('.vasp')]\n",
    "print(cells)"
   ]
  },
  {
   "cell_type": "markdown",
   "id": "18206b84",
   "metadata": {},
   "source": [
    "## Set up probe for convolution"
   ]
  },
  {
   "cell_type": "code",
   "execution_count": null,
   "id": "4f493463",
   "metadata": {
    "ExecuteTime": {
     "end_time": "2023-02-18T16:41:04.711735Z",
     "start_time": "2023-02-18T16:41:04.708148Z"
    }
   },
   "outputs": [],
   "source": [
    "# sampling\n",
    "sampling = 0.12"
   ]
  },
  {
   "cell_type": "code",
   "execution_count": null,
   "id": "14145c46",
   "metadata": {
    "ExecuteTime": {
     "end_time": "2023-02-18T16:42:13.709198Z",
     "start_time": "2023-02-18T16:42:13.504956Z"
    }
   },
   "outputs": [],
   "source": [
    "from abtem import *\n",
    "from abtem.waves import Probe\n",
    "\n",
    "#Set up the electron probe\n",
    "probe = Probe(energy=300e3, sampling=sampling, extent=2, semiangle_cutoff=24, focal_spread=60, defocus=0)\n",
    "    \n",
    "positions = [(1, 1)]\n",
    "waves = probe.build(positions)\n",
    "#wave = waves[0]\n",
    "#wave.show()\n",
    "    \n",
    "probe_image = np.abs(waves.array) ** 2\n",
    "plt.imshow(probe_image)\n",
    "plt.colorbar()\n",
    "plt.show()"
   ]
  },
  {
   "cell_type": "code",
   "execution_count": null,
   "id": "470ed197",
   "metadata": {
    "ExecuteTime": {
     "end_time": "2023-02-18T16:42:46.224609Z",
     "start_time": "2023-02-18T16:42:44.968878Z"
    },
    "scrolled": true
   },
   "outputs": [],
   "source": [
    "from ase.io import read\n",
    "from abtem import *\n",
    "from abtem.waves import Probe\n",
    "from skimage.filters import gaussian\n",
    "import cv2\n",
    "import time\n",
    "import h5py\n",
    "\n",
    "start = time.time()\n",
    "plot_for_testing = 1\n",
    "save_to_file = 1\n",
    "\n",
    "for cell in cells:\n",
    "    \n",
    "    # Read simulation cell and atom positions from file\n",
    "    atoms = read(cell, format=\"vasp\")\n",
    "\n",
    "    # Determine slice thickness\n",
    "    eps = 0.001 \n",
    "    atoms_pos = atoms.get_positions()\n",
    "    atoms_z = atoms_pos[:,2]\n",
    "    slice_thickness = np.min(atoms_z[atoms_z>eps])\n",
    "\n",
    "    # Compute the projected potential\n",
    "    projpot = Potential(atoms, sampling=.12, slice_thickness=slice_thickness, projection='finite', parametrization='kirkland')\n",
    "    precalc_pot = projpot.build(pbar=True)\n",
    "    precalc_pot = np.sum(precalc_pot.array, axis=0)\n",
    "    \n",
    "    # Convolve with probe\n",
    "    conv_stem = cv2.filter2D(precalc_pot, -1, probe_image)\n",
    "    \n",
    "    if plot_for_testing == 1:\n",
    "    \n",
    "        #Plot summed projected potential and convolved STEM image for testing\n",
    "        fig, axes = plt.subplots(nrows=1, ncols=1)\n",
    "        fig.tight_layout()\n",
    "\n",
    "        plt.subplot(1, 2, 1)\n",
    "        plt.imshow(precalc_pot, cmap='plasma')\n",
    "        plt.title('Summed projected potential')\n",
    "        plt.axis('off')\n",
    "        #plt.clim(0, 0.4)\n",
    "        plt.colorbar()\n",
    "\n",
    "        plt.subplot(1, 2, 2)\n",
    "        plt.imshow(conv_stem, cmap='plasma')\n",
    "        plt.title('Convolved STEM image')\n",
    "        plt.axis('off')\n",
    "        #plt.clim(0, 0.5)\n",
    "        plt.colorbar()\n",
    "        plt.show()\n",
    "        \n",
    "    if save_to_file == 1:\n",
    "        \n",
    "        # Save to hdf5 file\n",
    "        with h5py.File(cell[:-5] + '_convolved_STEM_image.hdf5', 'w') as convolved_stem_image:\n",
    "            group_conv_stem = convolved_stem_image.create_group('convolved_stem_image')\n",
    "            group_conv_stem.create_dataset('stem_probe', data=probe_image)\n",
    "            group_conv_stem.create_dataset('precalc_pot', data=precalc_pot)\n",
    "            group_conv_stem.create_dataset('conv_stem', data=conv_stem)\n",
    "\n",
    "            # Create attributes\n",
    "            group_conv_stem.attrs['Data description'] = ['Here each convolved STEM image is obtained by convolving the STEM probe with the summer projected potential.']\n",
    "\n",
    "            ## Close hdf5 file(s)  \n",
    "            #file.close()\n",
    "    \n",
    "    #print ('time cost: %6.2f[s]' %(time.time()-start,))"
   ]
  },
  {
   "cell_type": "code",
   "execution_count": null,
   "id": "f3f843ae",
   "metadata": {},
   "outputs": [],
   "source": []
  }
 ],
 "metadata": {
  "kernelspec": {
   "display_name": "Python 3 (ipykernel)",
   "language": "python",
   "name": "python3"
  },
  "language_info": {
   "codemirror_mode": {
    "name": "ipython",
    "version": 3
   },
   "file_extension": ".py",
   "mimetype": "text/x-python",
   "name": "python",
   "nbconvert_exporter": "python",
   "pygments_lexer": "ipython3",
   "version": "3.7.11"
  }
 },
 "nbformat": 4,
 "nbformat_minor": 5
}
