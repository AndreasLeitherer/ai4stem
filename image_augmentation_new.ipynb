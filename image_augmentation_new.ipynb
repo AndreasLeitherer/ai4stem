{
 "cells": [
  {
   "cell_type": "markdown",
   "id": "abb83372",
   "metadata": {},
   "source": [
    "# Import libraries"
   ]
  },
  {
   "cell_type": "code",
   "execution_count": 1,
   "id": "9253cbc6",
   "metadata": {},
   "outputs": [],
   "source": [
    "import os\n",
    "import h5py\n",
    "import matplotlib.pyplot as plt\n",
    "import numpy as np\n",
    "import numpy.matlib\n",
    "from scipy import ndimage"
   ]
  },
  {
   "cell_type": "markdown",
   "id": "c7d5c05c",
   "metadata": {},
   "source": [
    "# Change default figure size"
   ]
  },
  {
   "cell_type": "code",
   "execution_count": 2,
   "id": "e04f6ebd",
   "metadata": {},
   "outputs": [],
   "source": [
    "plt.rcParams['figure.figsize'] = [12, 8]"
   ]
  },
  {
   "cell_type": "markdown",
   "id": "cfb736fc",
   "metadata": {},
   "source": [
    "# Define folder and filename of data"
   ]
  },
  {
   "cell_type": "code",
   "execution_count": 42,
   "id": "c7033baa",
   "metadata": {},
   "outputs": [],
   "source": [
    "folder = '/Users/c.liebscher/Documents/PycharmProjects/ImageSimulations/2022/AI-STEM_TrainingData/simulationCells/HCP-Ti/'\n",
    "\n",
    "files = [i for i in os.listdir(folder) if i.endswith(\"_FP12.hdf5\")]\n",
    "images = [os.path.join(folder, i) for i in files]"
   ]
  },
  {
   "cell_type": "markdown",
   "id": "e82b94fd",
   "metadata": {},
   "source": [
    "# Loop through simulated STEM reference images and rotate"
   ]
  },
  {
   "cell_type": "code",
   "execution_count": 43,
   "id": "3a15a7d2",
   "metadata": {},
   "outputs": [],
   "source": [
    "for image in images:\n",
    "\n",
    "    # Read simulated STEM image from hdf5 file\n",
    "    file = h5py.File(image,'r')\n",
    "    img = file.get('array')\n",
    "    pixel_size = file.get('sampling') # in Angstrom\n",
    "    units = file.get('units')\n",
    "    #f.close()\n",
    "    \n",
    "    # Original image size\n",
    "    Nx, Ny = img.shape\n",
    "    \n",
    "    # Specify replication of original simulated image for augmentation\n",
    "    rep_img = 4\n",
    "    \n",
    "    # In case the original simulated STEM image is not square it will adapt the replication to make the image square\n",
    "    if (Nx-Ny)>0:\n",
    "        img_ratio = Nx/Ny\n",
    "        rep_img = rep_img, int(rep_img*img_ratio)\n",
    "    elif (Ny-Nx)>0:\n",
    "        img_ratio = Ny/Nx\n",
    "        rep_img = int(rep_img*img_ratio), rep_img\n",
    "    else:\n",
    "        rep_img = rep_img, rep_img\n",
    "    \n",
    "    # Replicate image\n",
    "    img_rep = np.matlib.repmat(img, rep_img[0], rep_img[1])\n",
    "    Nx_rep, Ny_rep = img_rep.shape\n",
    "    \n",
    "    # If image size is odd, make even in the corresponding direction by removing a one pixel boundary\n",
    "    if (Nx_rep % 2) == 0:\n",
    "        Nx_rep = Nx_rep\n",
    "    else:\n",
    "        img_rep = img_rep[:Nx_rep-1,:]\n",
    "        \n",
    "    if (Ny_rep % 2) == 0:\n",
    "        Ny_rep = Ny_rep\n",
    "    else:\n",
    "        img_rep = img_rep[:,:Ny_rep-1]\n",
    "        \n",
    "    Nx_rep, Ny_rep = img_rep.shape\n",
    "        \n",
    "    # Specify the minimum and maximum rotation angles and the rotation increment\n",
    "    rot_min = 0\n",
    "    rot_max = 90\n",
    "    rot_inc = 5\n",
    "    rot_range = np.arange(rot_min,rot_max+rot_inc,rot_inc)\n",
    "    \n",
    "    # Specify the field of view of the rotated images in Angstrom, so that all images are cropped to that size\n",
    "    fov = 12 # field of view in Angstrom\n",
    "\n",
    "    # Prepare output array\n",
    "    size_crop = int(np.round(fov/(np.round(pixel_size[0]*100)/100)))\n",
    "    img_rotated = np.zeros((size_crop, size_crop, rot_range.size), dtype=float)\n",
    "    Nx_rot, Ny_rot, Nz_rot = np.shape(img_rotated)\n",
    "\n",
    "    for a0 in range(0, rot_range.size, 1):\n",
    "\n",
    "        #Rotate images\n",
    "        img_rotated_temp = ndimage.rotate(img_rep, rot_range[a0], reshape=False)\n",
    "\n",
    "        #Crop image to maintain same field of view of here 1.2x1.2nm**2, if rectangular use smaller dimension\n",
    "        #if (Nx-Ny) < 0:\n",
    "        #    crop = Nxrep-Nx, Nyrep-Ny\n",
    "        #elif (Nx-Ny) > 0:\n",
    "        #    crop = int(np.round(((Nyrot*pixel_size[0]-fov)/pixel_size[0])/2))\n",
    "        #else:\n",
    "        #    crop = int(np.round(((Nxrot*pixel_size[0]-fov)/pixel_size[0])/2))\n",
    "        \n",
    "        crop = int((Nx_rep-Nx_rot)/2), int((Ny_rep-Ny_rot)/2)\n",
    "\n",
    "        #Crop image\n",
    "        img_rotated[:,:,a0] = img_rotated_temp[crop[0]:int(Nx_rep-crop[0]),crop[1]:int(Ny_rep-crop[1])]\n",
    "        \n",
    "    # Save to hdf5 file\n",
    "    with h5py.File(image[:-5] + '_augmented_images_rotation.hdf5', 'a') as f_rotation:\n",
    "        group_image_rotation = f_rotation.create_group('Image_rotation')\n",
    "        group_image_rotation.create_dataset('Rotated_images', data=img_rotated)\n",
    "        group_image_rotation.create_dataset('Rotation_angles', data=rot_range)\n",
    "        \n",
    "        # Create attributes\n",
    "        group_image_rotation.attrs['Data description'] = ['Each simulated STEM image is roated by the rotation angles specified in Rotation_angles and is cropped to a field of view of 1.2nm x 1.2nm (here 100x100 pixels)']\n",
    "        \n",
    "    # Close hdf5 file(s)  \n",
    "    file.close()"
   ]
  },
  {
   "cell_type": "markdown",
   "id": "1d476dc6",
   "metadata": {},
   "source": [
    "# Loop through rotated STEM images and add fast scan noise"
   ]
  },
  {
   "cell_type": "markdown",
   "id": "0109f7b7",
   "metadata": {},
   "source": [
    "### Fast scan noise is related to beam instabilities while scanning the sample line by line"
   ]
  },
  {
   "cell_type": "code",
   "execution_count": 44,
   "id": "3de83b4c",
   "metadata": {
    "scrolled": true
   },
   "outputs": [],
   "source": [
    "for image in images:\n",
    "    \n",
    "    # Read augmented/rotated images\n",
    "    file = h5py.File(image[:-5] + '_augmented_images_rotation.hdf5','r')\n",
    "\n",
    "    # List groups in hdf5 file\n",
    "    file_groups = file.keys()\n",
    "\n",
    "    # Extract datasets for each group\n",
    "    file_data = file.get('Image_rotation')\n",
    "    img_rotated = file_data.get('Rotated_images')\n",
    "    Nx, Ny, Nz = np.shape(img_rotated)\n",
    "    number_rotated_imgs = Nz\n",
    "    \n",
    "    # Specify maximum line shift in pixels; each pixel line of the image in y-direction will be shifted randomly\n",
    "    # by the specified shift to simulate fast scan noise\n",
    "    line_shift_max = 3\n",
    "    line_shift_range = np.arange(1,line_shift_max+1,1)\n",
    "    \n",
    "    # Set up array for images with fast scan noise for each rotation angle\n",
    "    img_fastscan = np.zeros((Nx, Ny, number_rotated_imgs, line_shift_max), dtype=float)\n",
    "\n",
    "    for a0 in range(0, 1, 1):\n",
    "\n",
    "        # Original image size\n",
    "        img = img_rotated[:,:,a0]\n",
    "        Nx, Ny = np.shape(img)\n",
    "        \n",
    "        # Set up array of line shift values to store with image data\n",
    "        line_shift = np.zeros((Nx, number_rotated_imgs), dtype=float)\n",
    "        \n",
    "        for b0 in range(0, line_shift_range.size, 1):\n",
    "        \n",
    "            # Randomly select line shift values between -line_shift_max and +line_shift_max\n",
    "            line_shift[:,a0] = np.random.randint(-line_shift_range[b0], high=line_shift_range[b0], size=Nx, dtype=int)\n",
    "            \n",
    "            # Randomly shift each line of image by the line_shift values\n",
    "            for c0 in range(0, Nx, 1):\n",
    "\n",
    "                img_fastscan[c0,:,a0,b0] = np.roll(img[c0,:], int(line_shift[c0,a0]), axis=0)\n",
    "\n",
    "    # Save to hdf5 file\n",
    "    # Close file before writing new content\n",
    "    file.close()\n",
    "    with h5py.File(image[:-5] + '_augmented_images_rotation&fastscannoise.hdf5', 'a') as f_fastscan:\n",
    "        group_image_fastscan = f_fastscan.create_group('Image_rotation_and_fast_scan_noise')\n",
    "        group_image_fastscan.create_dataset('Rotated_and_noisy_images', data=img_fastscan)\n",
    "        group_image_fastscan.create_dataset('Rotation_angles', data=rot_range)\n",
    "        group_image_fastscan.create_dataset('Line_shift_in_pixels', data=line_shift)\n",
    "        \n",
    "        # Create attributes\n",
    "        \n",
    "        group_image_fastscan.attrs['Data description'] = ['Rotated_and_noisy_images dimensions: [0: image size x; 1: image size y; 2: rotation angles (rot_range); 3: noise level (line_shift)]']"
   ]
  },
  {
   "cell_type": "markdown",
   "id": "bc146c02",
   "metadata": {},
   "source": [
    "# Loop through simulated and rotated STEM images and apply shear transformation"
   ]
  },
  {
   "cell_type": "markdown",
   "id": "7a8f1da6",
   "metadata": {},
   "source": [
    "### Shear of the images is related to linear sample drift"
   ]
  },
  {
   "cell_type": "code",
   "execution_count": 45,
   "id": "3528e239",
   "metadata": {},
   "outputs": [],
   "source": [
    "from skimage.transform import warp, AffineTransform\n",
    "\n",
    "for image in images:\n",
    "\n",
    "    # Read simulated STEM image from hdf5 file\n",
    "    file = h5py.File(image,'r')\n",
    "    img = file.get('array')\n",
    "    pixel_size = file.get('sampling') # in Angstrom\n",
    "    units = file.get('units')\n",
    "    #f.close()\n",
    "    \n",
    "    # Original image size\n",
    "    Nx, Ny = img.shape\n",
    "    \n",
    "    # Specify replication of original simulated image for augmentation\n",
    "    rep_img = 4\n",
    "    \n",
    "    # In case the original simulated STEM image is not square it will adapt the replication to make the image square\n",
    "    if (Nx-Ny)>0:\n",
    "        img_ratio = Nx/Ny\n",
    "        rep_img = rep_img, int(rep_img*img_ratio)\n",
    "    elif (Ny-Nx)>0:\n",
    "        img_ratio = Ny/Nx\n",
    "        rep_img = int(rep_img*img_ratio), rep_img\n",
    "    else:\n",
    "        rep_img = rep_img, rep_img\n",
    "    \n",
    "    # Replicate image\n",
    "    img_rep = np.matlib.repmat(img, rep_img[0], rep_img[1])\n",
    "    Nx_rep, Ny_rep = img_rep.shape\n",
    "    \n",
    "    # If image size is odd, make even in the corresponding direction by removing a one pixel boundary\n",
    "    if (Nx_rep % 2) == 0:\n",
    "        Nx_rep = Nx_rep\n",
    "    else:\n",
    "        img_rep = img_rep[:Nx_rep-1,:]\n",
    "        \n",
    "    if (Ny_rep % 2) == 0:\n",
    "        Ny_rep = Ny_rep\n",
    "    else:\n",
    "        img_rep = img_rep[:,:Ny_rep-1]\n",
    "        \n",
    "    Nx_rep, Ny_rep = img_rep.shape\n",
    "        \n",
    "    # Specify the minimum and maximum rotation angles and the rotation increment\n",
    "    rot_min = 0\n",
    "    rot_max = 90\n",
    "    rot_inc = 5\n",
    "    rot_range = np.arange(rot_min,rot_max+rot_inc,rot_inc)\n",
    "    \n",
    "    # Specify the minimum and maximum shear to be applied\n",
    "    shear_min = -0.05\n",
    "    shear_max = 0.05\n",
    "    shear_inc = 0.01\n",
    "    shear_range = np.arange(shear_min,shear_max+shear_inc/2,shear_inc)\n",
    "    shear_range = np.round(shear_range, decimals=2)\n",
    "    \n",
    "    # Specify the field of view of the rotated images in Angstrom, so that all images are cropped to that size\n",
    "    fov = 12 # field of view in Angstrom\n",
    "\n",
    "    # Prepare output array\n",
    "    size_crop = int(np.round(fov/(np.round(pixel_size[0]*100)/100)))\n",
    "    img_rotated_sheared = np.zeros((size_crop, size_crop, rot_range.size, shear_range.size), dtype=float)\n",
    "    Nx_rot_shear, Ny_rot_shear, Nz_rot_shear, Ns_rot_shear = np.shape(img_rotated_sheared)\n",
    "    \n",
    "    ## Set up temporary array for rotated and sheared images\n",
    "    #img_rotated_sheared_temp = np.zeros((Nx_rep, Ny_rep, shear_range.size), dtype=float)\n",
    "\n",
    "    for a0 in range(0, rot_range.size, 1):\n",
    "\n",
    "        #Rotate images\n",
    "        img_rotated_temp = ndimage.rotate(img_rep, rot_range[a0], reshape=False)\n",
    "\n",
    "        #Crop image to maintain same field of view of here 1.2x1.2nm**2, if rectangular use smaller dimension\n",
    "        #if (Nx-Ny) < 0:\n",
    "        #    crop = Nxrep-Nx, Nyrep-Ny\n",
    "        #elif (Nx-Ny) > 0:\n",
    "        #    crop = int(np.round(((Nyrot*pixel_size[0]-fov)/pixel_size[0])/2))\n",
    "        #else:\n",
    "        #    crop = int(np.round(((Nxrot*pixel_size[0]-fov)/pixel_size[0])/2))\n",
    "        \n",
    "        for b0 in range(0, shear_range.size, 1):\n",
    "            \n",
    "            tform = AffineTransform(scale=(1.0, 1.0), rotation=0, shear=shear_range[b0],\n",
    "                        translation=(0, 0))\n",
    "            img_rotated_sheared_temp = warp(img_rotated_temp, tform.inverse, output_shape=(Nx_rep, Ny_rep))\n",
    "\n",
    "            #Crop image and write to array\n",
    "            crop = int((Nx_rep-Nx_rot)/2), int((Ny_rep-Ny_rot)/2)\n",
    "            img_rotated_sheared[:,:,a0,b0] = img_rotated_sheared_temp[crop[0]:int(Nx_rep-crop[0]),crop[1]:int(Ny_rep-crop[1])]\n",
    "            \n",
    "    # Save to hdf5 file\n",
    "    with h5py.File(image[:-5] + '_augmented_images_rotation&shear.hdf5', 'a') as f_rotation_shear:\n",
    "        group_image_rotation_shear = f_rotation_shear.create_group('Image_rotation_and_shear')\n",
    "        group_image_rotation_shear.create_dataset('Rotated_and_sheared_images', data=img_rotated_sheared)\n",
    "        group_image_rotation_shear.create_dataset('Rotation_angles', data=rot_range)\n",
    "        group_image_rotation_shear.create_dataset('Shear_range',data=shear_range)\n",
    "        \n",
    "        # Create attributes\n",
    "        group_image_rotation_shear.attrs['Data description'] = ['Rotated_and_sheared_images dimensions: [0: image size x; 1: image size y; 2: rotation angles (rot_range); 3: shear level (shear_range)]']\n",
    "        \n",
    "    # Close hdf5 file(s)  \n",
    "    file.close()"
   ]
  },
  {
   "cell_type": "markdown",
   "id": "7150aff9",
   "metadata": {},
   "source": [
    "# Loop through rotated and sheared STEM images and add fast scan noise"
   ]
  },
  {
   "cell_type": "markdown",
   "id": "61095993",
   "metadata": {},
   "source": [
    "### Fast scan noise is related to beam instabilities while scanning the sample line by line"
   ]
  },
  {
   "cell_type": "code",
   "execution_count": 46,
   "id": "8a2932b0",
   "metadata": {
    "scrolled": true
   },
   "outputs": [],
   "source": [
    "from skimage.transform import warp, AffineTransform\n",
    "\n",
    "for image in images:\n",
    "    \n",
    "    # Read augmented/rotated images\n",
    "    file = h5py.File(image[:-5] + '_augmented_images_rotation&shear.hdf5','r')\n",
    "\n",
    "    # List groups in hdf5 file\n",
    "    file_groups = file.keys()\n",
    "\n",
    "    # Extract datasets for each group\n",
    "    file_data = file.get('Image_rotation_and_shear')\n",
    "    img_rotated_sheared = file_data.get('Rotated_and_sheared_images')\n",
    "    Nx, Ny, Nrot, Nshear = np.shape(img_rotated_sheared)\n",
    "    number_rotated_sheared_imgs = Nrot * Nshear\n",
    "    \n",
    "    # Specify maximum line shift in pixels; each pixel line of the image in y-direction will be shifted randomly\n",
    "    # by the specified shift to simulate fast scan noise\n",
    "    line_shift_max = 3\n",
    "    line_shift_range = np.arange(0, line_shift_max+1, 1)\n",
    "    \n",
    "    # Set up array of line shift values to store with image data\n",
    "    line_shift = np.zeros((Nx, number_rotated_sheared_imgs * line_shift_range.size), dtype=float)\n",
    "    \n",
    "    # Running variable\n",
    "    i0 = 0\n",
    "    i1 = 1 \n",
    "    \n",
    "    # Set up array for images with fast scan noise for each rotation angle\n",
    "    img_fastscan = np.zeros((Nx, Ny, Nrot, Nshear, line_shift_max+1), dtype=float)\n",
    "\n",
    "    for r0 in range(0, Nrot, 1):\n",
    "        for s0 in range(0, Nshear, 1):\n",
    "        \n",
    "            img_fastscan_temp = img_rotated_sheared[:,:,r0,s0]         \n",
    "        \n",
    "            for f0 in range(0, line_shift_range.size, 1):\n",
    "                \n",
    "                # Running variable\n",
    "                i0 = i0+i1\n",
    "                i = i0-1\n",
    "                \n",
    "                # Randomly select line shift values between -line_shift_max and +line_shift_max\n",
    "                if line_shift_range[f0]==0:\n",
    "                    line_shift[:,i] = line_shift[:,i]\n",
    "                else:\n",
    "                    line_shift[:,i] = np.random.randint(-line_shift_range[f0], high=line_shift_range[f0]+1, size=Ny, dtype=int)\n",
    "                \n",
    "                # Randomly shift each line of image by the line_shift values\n",
    "                for c0 in range(0, Ny, 1):\n",
    "                    \n",
    "                    img_fastscan[c0,:,r0,s0,f0] = np.roll(img_fastscan_temp[c0,:], int(line_shift[c0,i]), axis=0)\n",
    "\n",
    "    # Save to hdf5 file\n",
    "    # Close file before writing new content\n",
    "    file.close()\n",
    "    with h5py.File(image[:-5] + '_augmented_images_rotation&shear&fastscannoise.hdf5', 'a') as f_fastscan:\n",
    "        group_image_fastscan = f_fastscan.create_group('Image_rotation_shear_and_fast_scan_noise')\n",
    "        group_image_fastscan.create_dataset('Rotated_sheared_and_noisy_images', data=img_fastscan)\n",
    "        group_image_fastscan.create_dataset('Rotation_angles', data=rot_range)\n",
    "        group_image_fastscan.create_dataset('Shear_range', data=shear_range)\n",
    "        group_image_fastscan.create_dataset('Line_shift_in_pixels', data=line_shift)\n",
    "        \n",
    "        # Create attributes\n",
    "        group_image_fastscan.attrs['Data description'] = ['Rotated_sheared_and_noisy_images dimensions: [0: image size x; 1: image size y; 2: rotation angles (rot_range); 3: shear range (shear_range); 4: noise level (line_shift)]']"
   ]
  },
  {
   "cell_type": "markdown",
   "id": "e7a04e5d",
   "metadata": {},
   "source": [
    "# Test selected augmented images"
   ]
  },
  {
   "cell_type": "code",
   "execution_count": 52,
   "id": "b713f08a",
   "metadata": {},
   "outputs": [
    {
     "name": "stdout",
     "output_type": "stream",
     "text": [
      "/Users/c.liebscher/Documents/PycharmProjects/ImageSimulations/2022/AI-STEM_TrainingData/simulationCells/HCP-Ti/HCP_Ti_10m10_LatPar_2.45A_t_80A_STEMsim_ps0.12_FP12.hdf5\n",
      "<HDF5 dataset \"Rotated_sheared_and_noisy_images\": shape (100, 100, 19, 11, 4), type \"<f8\">\n"
     ]
    },
    {
     "data": {
      "image/png": "[encoded data removed]",
      "text/plain": [
       "<Figure size 864x576 with 2 Axes>"
      ]
     },
     "metadata": {
      "needs_background": "light"
     },
     "output_type": "display_data"
    }
   ],
   "source": [
    "with h5py.File(images[30][:-5] + '_augmented_images_rotation&shear&fastscannoise.hdf5', 'a') as f:\n",
    "    print(images[30])\n",
    "    # Extract datasets for each group\n",
    "    file_data = f.get('Image_rotation_shear_and_fast_scan_noise')\n",
    "    img_data = file_data.get('Rotated_sheared_and_noisy_images')\n",
    "    print(img_data)\n",
    "    \n",
    "    plt.imshow(img_data[:,:,0,5,0])\n",
    "    plt.axis('off')\n",
    "    plt.colorbar()\n",
    "    plt.show()"
   ]
  },
  {
   "cell_type": "code",
   "execution_count": null,
   "id": "7f233de9",
   "metadata": {},
   "outputs": [],
   "source": []
  }
 ],
 "metadata": {
  "kernelspec": {
   "display_name": "Python 3",
   "language": "python",
   "name": "python3"
  },
  "language_info": {
   "codemirror_mode": {
    "name": "ipython",
    "version": 3
   },
   "file_extension": ".py",
   "mimetype": "text/x-python",
   "name": "python",
   "nbconvert_exporter": "python",
   "pygments_lexer": "ipython3",
   "version": "3.8.8"
  }
 },
 "nbformat": 4,
 "nbformat_minor": 5
}
